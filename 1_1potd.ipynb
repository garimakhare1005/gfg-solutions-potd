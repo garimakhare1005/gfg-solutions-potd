{
  "nbformat": 4,
  "nbformat_minor": 0,
  "metadata": {
    "colab": {
      "provenance": []
    },
    "kernelspec": {
      "name": "python3",
      "display_name": "Python 3"
    },
    "language_info": {
      "name": "python"
    }
  },
  "cells": [
    {
      "cell_type": "code",
      "source": [
        "class Solution:\n",
        "    def canPair(self, nums, k):\n",
        "        # Check if the length of the array is even\n",
        "        if len(nums) % 2 != 0:\n",
        "            return False\n",
        "\n",
        "        # Create a dictionary to store the count of remainders\n",
        "        remainder_count = {}\n",
        "\n",
        "        # Count the remainders of all elements when divided by k\n",
        "        for num in nums:\n",
        "            remainder = num % k\n",
        "            remainder_count[remainder] = remainder_count.get(remainder, 0) + 1\n",
        "\n",
        "        # Check for pairs that can be formed\n",
        "        for remainder in remainder_count:\n",
        "            # If remainder is 0, there should be an even count of such elements\n",
        "            if remainder == 0:\n",
        "                if remainder_count[remainder] % 2 != 0:\n",
        "                    return False\n",
        "            # If remainder is k/2 (middle in case of even k), there should be an even count\n",
        "            elif k % 2 == 0 and remainder == k // 2:\n",
        "                if remainder_count[remainder] % 2 != 0:\n",
        "                    return False\n",
        "            # For other remainders, check if there are pairs with complementary remainders\n",
        "            else:\n",
        "                complement = (k - remainder) % k\n",
        "                if remainder_count.get(complement, 0) != remainder_count[remainder]:\n",
        "                    return False\n",
        "\n",
        "        # All pairs are possible\n",
        "        return True\n"
      ],
      "metadata": {
        "id": "Ebxwe3R-GB1K"
      },
      "execution_count": 1,
      "outputs": []
    },
    {
      "cell_type": "markdown",
      "source": [],
      "metadata": {
        "id": "zwZQxAvTukFl"
      }
    }
  ]
}