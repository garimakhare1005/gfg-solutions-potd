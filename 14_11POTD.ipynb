{
  "nbformat": 4,
  "nbformat_minor": 0,
  "metadata": {
    "colab": {
      "provenance": []
    },
    "kernelspec": {
      "name": "python3",
      "display_name": "Python 3"
    },
    "language_info": {
      "name": "python"
    }
  },
  "cells": [
    {
      "cell_type": "markdown",
      "source": [
        "You are given two strings of equal lengths, s1 and s2. The task is to check if s2 is a rotated version of the string s1.\n",
        "\n",
        "Note: The characters in the strings are in lowercase.\n",
        "\n",
        "Example 1:\n",
        "\n",
        "Input:\n",
        "geeksforgeeks\n",
        "forgeeksgeeks\n",
        "Output:\n",
        "1\n",
        "Explanation: s1 is geeksforgeeks, s2 is\n",
        "forgeeksgeeks. Clearly, s2 is a rotated\n",
        "version of s1 as s2 can be obtained by\n",
        "left-rotating s1 by 5 units.\n",
        "Example 2:\n",
        "\n",
        "Input:\n",
        "mightandmagic\n",
        "andmagicmigth\n",
        "Output:\n",
        "0\n",
        "Explanation: Here with any amount of\n",
        "rotation s2 can't be obtained by s1.\n",
        "Your Task:\n",
        "You don't have to read or print anything. The task is to complete the function areRotations() which takes two strings, s1 and s2 as inputs and checks if the two strings are rotations of each other. The function returns true if s1 can be obtained by rotating s2, else it returns false.\n",
        "\n",
        "Expected Time Complexity: O( |s1| ).\n",
        "Expected Space Complexity: O( |s1| ).\n",
        "\n",
        "Constraints:\n",
        "1 <= |s1|, |s2| <= 105\n",
        "\n"
      ],
      "metadata": {
        "id": "kG25SDrISsnV"
      }
    },
    {
      "cell_type": "code",
      "source": [
        "class Solution:\n",
        "\n",
        "    #Function to check if two strings are rotations of each other or not.\n",
        "    def areRotations(self,s1,s2):\n",
        "        #code here\n",
        "        if s1 == s2:\n",
        "            return True\n",
        "\n",
        "        slen = len(s1)\n",
        "        for i in range(slen):\n",
        "            isRotated = True\n",
        "\n",
        "            for j in range(slen):\n",
        "                idx = j + i\n",
        "                if idx >= slen:\n",
        "                    idx -= slen\n",
        "\n",
        "                if s1[j] != s2[idx]:\n",
        "                    isRotated = False\n",
        "                    break\n",
        "\n",
        "            if isRotated:\n",
        "                return True\n",
        "\n",
        "        return False"
      ],
      "metadata": {
        "id": "v29A0cEsSuO6"
      },
      "execution_count": 1,
      "outputs": []
    }
  ]
}