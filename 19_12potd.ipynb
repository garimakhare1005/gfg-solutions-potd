{
  "cells": [
    {
      "cell_type": "markdown",
      "source": [
        "Given two numbers M and N. The task is to find the position of the rightmost different bit in the binary representation of numbers. If both M and N are the same then return -1 in this case.\n",
        "\n",
        "Example 1:\n",
        "\n",
        "Input:\n",
        "M = 11, N = 9\n",
        "Output:\n",
        "2\n",
        "Explanation:\n",
        "Binary representation of the given numbers are: 1011 and 1001, 2nd bit from right is different.\n",
        "Example 2:\n",
        "\n",
        "Input:\n",
        "M = 52, N = 4\n",
        "Output:\n",
        "5\n",
        "Explanation:\n",
        "Binary representation of the given numbers are: 110100 and 0100, 5th-bit from right is different.\n",
        "User Task:\n",
        "The task is to complete the function posOfRightMostDiffBit() which takes two arguments M and N and returns the position of first different bits in M and N from right. If both m and n are the same then return -1 in this case.\n",
        "\n",
        "Expected Time Complexity: O(max(log M, log N)).\n",
        "Expected Auxiliary Space: O(1).\n",
        "\n",
        "Constraints:\n",
        "0 <= M, N <= 109"
      ],
      "metadata": {
        "id": "H4ZmOWTFroVu"
      }
    },
    {
      "cell_type": "code",
      "source": [
        "import math\n",
        "\n",
        "class Solution:\n",
        "\n",
        "    #Function to find the first position with different bits.\n",
        "    def posOfRightMostDiffBit(self,m,n):\n",
        "        if m==n:\n",
        "            return -1\n",
        "        pos=1\n",
        "        x=int(str(bin(m))[2:])\n",
        "        y=int(str(bin(n))[2:])\n",
        "        while True:\n",
        "            rem1=x%10\n",
        "            rem2=y%10\n",
        "            x=x//10\n",
        "            y=y//10\n",
        "            if rem1!=rem2:\n",
        "                break\n",
        "            pos+=1\n",
        "        return pos"
      ],
      "metadata": {
        "id": "VSSI0ylirqhI"
      },
      "execution_count": 6,
      "outputs": []
    }
  ],
  "metadata": {
    "colab": {
      "provenance": []
    },
    "kernelspec": {
      "display_name": "Python 3",
      "name": "python3"
    },
    "language_info": {
      "name": "python"
    }
  },
  "nbformat": 4,
  "nbformat_minor": 0
}