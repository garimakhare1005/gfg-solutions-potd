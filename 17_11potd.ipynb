{
  "nbformat": 4,
  "nbformat_minor": 0,
  "metadata": {
    "colab": {
      "provenance": []
    },
    "kernelspec": {
      "name": "python3",
      "display_name": "Python 3"
    },
    "language_info": {
      "name": "python"
    }
  },
  "cells": [
    {
      "cell_type": "markdown",
      "source": [
        "Given a Binary Tree of N edges. The task is to convert this to a Circular Doubly Linked List (CDLL) in-place. The left and right pointers in nodes are to be used as previous and next pointers respectively in CDLL. The order of nodes in CDLL must be same as Inorder of the given Binary Tree. The first node of Inorder traversal (left most node in BT) must be head node of the CDLL.\n",
        "\n",
        "Example 1:\n",
        "\n",
        "Input:\n",
        "      1\n",
        "    /   \\\n",
        "   3     2\n",
        "Output:\n",
        "3 1 2\n",
        "2 1 3\n",
        "Explanation: After converting tree to CDLL\n",
        "when CDLL is is traversed from head to\n",
        "tail and then tail to head, elements\n",
        "are displayed as in the output.\n",
        "Example 2:\n",
        "\n",
        "Input:\n",
        "     10\n",
        "   /    \\\n",
        "  20    30\n",
        " /  \\\n",
        "40  60\n",
        "Output:\n",
        "40 20 60 10 30\n",
        "30 10 60 20 40\n",
        "Explanation:After converting tree to CDLL,\n",
        "when CDLL is is traversed from head to\n",
        "tail and then tail to head, elements\n",
        "are displayed as in the output.\n",
        "Your Task:\n",
        "You don't have to take input or print anything. Complete the function bTreeToCList() that takes root as a parameter and returns the head of the list. The driver code prints the linked list twice, first time in the right order, and another time in reverse order.\n",
        "\n",
        "Constraints:\n",
        "1 <= N <= 103\n",
        "1 <= Data of a node <= 104\n",
        "\n",
        "Expected time complexity: O(N)\n",
        "\n",
        "Expected auxiliary space: O(h) , where h = height of tree"
      ],
      "metadata": {
        "id": "T3G8gpDFxYEk"
      }
    },
    {
      "cell_type": "code",
      "execution_count": 2,
      "metadata": {
        "id": "NyX77EjrxW-x"
      },
      "outputs": [],
      "source": [
        "#User function Template for python3\n",
        "\n",
        "\n",
        "'''\n",
        "class Node:\n",
        "    def __init__(self,val):\n",
        "        self.data = val\n",
        "        self.left = None\n",
        "        self.right = None\n",
        "\n",
        "'''\n",
        "class Solution:\n",
        "    def bTreeToClist(self, root):\n",
        "        if not root:\n",
        "            return None\n",
        "\n",
        "        # Helper function to perform in-order traversal and modify pointers.\n",
        "        def convert_to_cdll(node):\n",
        "            nonlocal head, prev\n",
        "\n",
        "            if not node:\n",
        "                return\n",
        "\n",
        "            # Recursively convert left subtree.\n",
        "            convert_to_cdll(node.left)\n",
        "\n",
        "            # Update pointers.\n",
        "            if not head:\n",
        "                head = node\n",
        "            else:\n",
        "                node.left = prev\n",
        "                prev.right = node\n",
        "\n",
        "            prev = node\n",
        "\n",
        "            # Recursively convert right subtree.\n",
        "            convert_to_cdll(node.right)\n",
        "\n",
        "        # Initialize variables.\n",
        "        head = None\n",
        "        prev = None\n",
        "\n",
        "        # Start in-order traversal.\n",
        "        convert_to_cdll(root)\n",
        "\n",
        "        # Make it circular by connecting the head and tail.\n",
        "        head.left = prev\n",
        "        prev.right = head\n",
        "\n",
        "        return head"
      ]
    }
  ]
}