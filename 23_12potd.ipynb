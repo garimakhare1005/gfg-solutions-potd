{
  "nbformat": 4,
  "nbformat_minor": 0,
  "metadata": {
    "colab": {
      "provenance": []
    },
    "kernelspec": {
      "name": "python3",
      "display_name": "Python 3"
    },
    "language_info": {
      "name": "python"
    }
  },
  "cells": [
    {
      "cell_type": "markdown",
      "source": [
        "Money can’t buy you happiness. But Geekbits can buy you GfG goodies and it’s the same thing. Earn 2X Geekbits Now\n",
        "\n",
        "banner\n",
        "Given an array arr of size N and an element k. The task is to find the count of elements in the array that appear more than n/k times.\n",
        "\n",
        "Example 1:\n",
        "\n",
        "Input:\n",
        "N = 8\n",
        "arr = [3,1,2,2,1,2,3,3]\n",
        "k = 4\n",
        "Output:\n",
        "2\n",
        "Explanation:\n",
        "In the given array, 3 and 2 are the only elements that appears more than n/k times.\n",
        "Example 2:\n",
        "\n",
        "Input:\n",
        "N = 4\n",
        "arr = [2,3,3,2]\n",
        "k = 3\n",
        "Output:\n",
        "2\n",
        "Explanation: In the given array, 3 and 2 are the only elements that appears more than n/k times. So the count of elements are 2.\n",
        "Your Task:\n",
        "The task is to complete the function countOccurence() which returns count of elements with more than n/k times appearance.\n",
        "\n",
        "Expected Time Complexity: O(N).\n",
        "Expected Auxiliary Space: O(N).\n",
        "\n",
        "Constraints:\n",
        "1 <= N <= 105\n",
        "1 <= a[i] <= 109\n",
        "1 <= k <= N"
      ],
      "metadata": {
        "id": "mH71IveAYuHY"
      }
    },
    {
      "cell_type": "code",
      "execution_count": 1,
      "metadata": {
        "id": "4kTQeiYAYoyF"
      },
      "outputs": [],
      "source": [
        "from collections import Counter\n",
        "class Solution:\n",
        "\n",
        "    #Function to find all elements in array that appear more than n/k times.\n",
        "    def countOccurence(self,arr,n,k):\n",
        "        #Your code here\n",
        "        arr=Counter(arr)\n",
        "        count=0\n",
        "        for i in arr:\n",
        "            if arr[i]>n//k:count+=1\n",
        "        return count\n",
        ""
      ]
    }
  ]
}