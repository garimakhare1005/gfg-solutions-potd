{
  "cells": [
    {
      "cell_type": "markdown",
      "source": [
        "Given an array of n integers. Find the minimum non-negative number to be inserted in array, so that sum of all elements of array becomes prime.\n",
        "\n",
        "Example 1:\n",
        "\n",
        "Input:\n",
        "N=5\n",
        "arr = {2, 4, 6, 8, 12}\n",
        "Output:  \n",
        "5\n",
        "Explanation:\n",
        "The sum of the array is 32 ,we can add 5 to this to make it 37 which is a prime number.\n",
        "Example 2:\n",
        "\n",
        "Input:\n",
        "N=3\n",
        "arr = {1, 5, 7}\n",
        "Output:  \n",
        "0\n",
        "Explanation:\n",
        "The sum of the array is 13 which is already prime.\n",
        "Your Task:\n",
        "You don't need to read input or print anything. Your task is to complete the function minNumber() that takes array arr and integer N as input parameters and returns the minimum positive number to be inserted in the array so as to make it's sum a prime number.\n",
        "\n",
        "Expected Time Complexity: O(N log(log N))\n",
        "Expected Auxiliary Space: O(1).\n",
        "\n",
        "Constraints:\n",
        "1 ≤ N ≤ 105\n",
        "1 ≤ sum of all elements ≤ 106"
      ],
      "metadata": {
        "id": "hYd_xEObNYPk"
      }
    },
    {
      "cell_type": "code",
      "source": [
        "\n",
        "class Solution:\n",
        "    def minNumber(self, arr,n):\n",
        "        def is_prime(n):\n",
        "            if n < 2:\n",
        "                return False\n",
        "            for i in range(2, int(n**0.5) + 1):\n",
        "                if n % i == 0:\n",
        "                    return False\n",
        "            return True\n",
        "\n",
        "        def make_prime(number):\n",
        "            while is_prime(number)==False:\n",
        "                number += 1\n",
        "            return number\n",
        "        a1=make_prime(sum(arr))\n",
        "        return (a1-sum(arr))"
      ],
      "metadata": {
        "id": "ssgeg_D3NNMR"
      },
      "execution_count": null,
      "outputs": []
    }
  ],
  "metadata": {
    "colab": {
      "provenance": []
    },
    "kernelspec": {
      "display_name": "Python 3",
      "name": "python3"
    },
    "language_info": {
      "name": "python"
    }
  },
  "nbformat": 4,
  "nbformat_minor": 0
}