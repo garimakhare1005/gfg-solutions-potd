{
  "nbformat": 4,
  "nbformat_minor": 0,
  "metadata": {
    "colab": {
      "provenance": []
    },
    "kernelspec": {
      "name": "python3",
      "display_name": "Python 3"
    },
    "language_info": {
      "name": "python"
    }
  },
  "cells": [
    {
      "cell_type": "markdown",
      "source": [
        "Consider a directed graph whose vertices are numbered from 1 to n. There is an edge from a vertex i to a vertex j if and only if either j = i + 1 or j = 3 * i. The task is to find the minimum number of edges in a path from vertex 1 to vertex n.\n",
        "\n",
        "Example 1:\n",
        "\n",
        "Input:\n",
        "n = 9\n",
        "Output:\n",
        "2\n",
        "Explanation:\n",
        "Many paths are possible from 1 to 9.\n",
        "Shortest one possible is,\n",
        "1 -> 3 -> 9, of length 2.\n",
        "Example 2:\n",
        "\n",
        "Input:\n",
        "n = 4\n",
        "Output:\n",
        "2\n",
        "Explanation:\n",
        "Possible paths from 1 to 4 are,\n",
        "1 -> 2 -> 3 -> 4 and\n",
        "1 -> 3 -> 4.\n",
        "Second path of length 2 is the shortest.\n",
        "Your Task:  \n",
        "You don't need to read input or print anything. Your task is to complete the function minimumStep() which takes an integer n as inputs and returns the minimum number of edges in a path from vertex 1 to vertex N.\n",
        "\n",
        "Expected Time Complexity: O( log(n) )\n",
        "Expected Auxiliary Space: O(1)\n",
        "\n",
        "Constraints:"
      ],
      "metadata": {
        "id": "HZheD72_FR7O"
      }
    },
    {
      "cell_type": "code",
      "source": [
        "#User function Template for python3\n",
        "\n",
        "class Solution:\n",
        "    def minimumStep (self, n):\n",
        "        #complete the function here\n",
        "        ans=0\n",
        "        while n!=1:\n",
        "            if n%3==0:\n",
        "                n=n//3\n",
        "            else:\n",
        "                n=n-1\n",
        "            ans+=1\n",
        "        return ans\n",
        "\n",
        "\n"
      ],
      "metadata": {
        "id": "Q9af1KHOFMRw"
      },
      "execution_count": null,
      "outputs": []
    }
  ]
}