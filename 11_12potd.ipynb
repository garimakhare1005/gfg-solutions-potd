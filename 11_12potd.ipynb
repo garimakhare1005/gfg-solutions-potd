{
  "cells": [
    {
      "cell_type": "markdown",
      "source": [
        "Given an array of integers Arr of size N and a number K. Return the maximum sum of a subarray of size K.\n",
        "\n",
        "NOTE*: A subarray is a contiguous part of any given array.\n",
        "\n",
        "Example 1:\n",
        "\n",
        "Input:\n",
        "N = 4, K = 2\n",
        "Arr = [100, 200, 300, 400]\n",
        "Output:\n",
        "700\n",
        "Explanation:\n",
        "Arr3  + Arr4 =700,\n",
        "which is maximum.\n",
        "Example 2:\n",
        "\n",
        "Input:\n",
        "N = 4, K = 4\n",
        "Arr = [100, 200, 300, 400]\n",
        "Output:\n",
        "1000\n",
        "Explanation:\n",
        "Arr1 + Arr2 + Arr3 + Arr4 =1000,\n",
        "which is maximum.\n",
        "Your Task:\n",
        "\n",
        "You don't need to read input or print anything. Your task is to complete the function maximumSumSubarray() which takes the integer K, vector Arr with size N, containing the elements of the array and returns the maximum sum of a subarray of size K.\n",
        "\n",
        "Expected Time Complexity: O(N)\n",
        "Expected Auxiliary Space: O(1)\n",
        "\n",
        "Constraints:\n",
        "1 <= N <= 105\n",
        "1 <= Arri <= 105\n",
        "1 <= K <= N"
      ],
      "metadata": {
        "id": "hM6FhMO9uwyk"
      }
    },
    {
      "cell_type": "code",
      "source": [
        "class Solution:\n",
        "    def maximumSumSubarray (self,K,Arr,N):\n",
        "        cur = sum(Arr[:K])\n",
        "        res = cur\n",
        "        for i in range(K,N):\n",
        "            cur = cur - Arr[i-K] + Arr[i]\n",
        "            res = max(res,cur)\n",
        "\n",
        "        return res\n"
      ],
      "metadata": {
        "id": "WjEOmfzyMEZC"
      },
      "execution_count": 1,
      "outputs": []
    }
  ],
  "metadata": {
    "colab": {
      "provenance": []
    },
    "kernelspec": {
      "display_name": "Python 3",
      "name": "python3"
    },
    "language_info": {
      "name": "python"
    }
  },
  "nbformat": 4,
  "nbformat_minor": 0
}