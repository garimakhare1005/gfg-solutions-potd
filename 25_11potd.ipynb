{
  "nbformat": 4,
  "nbformat_minor": 0,
  "metadata": {
    "colab": {
      "provenance": []
    },
    "kernelspec": {
      "name": "python3",
      "display_name": "Python 3"
    },
    "language_info": {
      "name": "python"
    }
  },
  "cells": [
    {
      "cell_type": "markdown",
      "source": [
        "Given an array arr of n elements in the following format {a1, a2, a3, a4, ... , an/2, b1, b2, b3, b4, ... , bn/2}, the task is shuffle the array to {a1, b1, a2, b2, a3, b3, ... , an/2, bn/2} without using extra space.\n",
        "Note that n is even.\n",
        "\n",
        "Example 1:\n",
        "\n",
        "Input:\n",
        "n = 4, arr = {1, 2, 9, 15}\n",
        "Output:  \n",
        "1 9 2 15\n",
        "Explanation:\n",
        "a1=1, a2=2, b1=9, b2=15. So the final array will be: a1, b1, a2, b2 = {1,9,2,15}.\n",
        "Example 2:\n",
        "\n",
        "Input:\n",
        "n = 6 arr = {1, 2, 3, 4, 5, 6}\n",
        "Output:\n",
        "1 4 2 5 3 6\n",
        "Your Task:\n",
        "This is a function problem. You don't need to take any input, as it is already accomplished by the driver code. You just need to complete the function shuffleArray() that takes array arr, and an integer n as parameters and modifies the given array according to the above-given pattern.\n",
        "\n",
        "Expected Time Complexity: O(n).\n",
        "Expected Auxiliary Space: O(1).\n",
        "\n",
        "Constraints:\n",
        "1 ≤ n ≤ 105\n",
        "1 ≤ arri ≤ 103"
      ],
      "metadata": {
        "id": "Kea2-rMXDwxv"
      }
    },
    {
      "cell_type": "code",
      "source": [
        "class Solution:\n",
        "    def shuffleArray(self, a, n):\n",
        "        temp = a.copy()\n",
        "        j = (len(a)//2)-1\n",
        "        for i in range((len(a)//2)-1,0,-1):\n",
        "            a[i+j] = a[i]\n",
        "            j -= 1\n",
        "        l = len(a)//2\n",
        "        j = (len(a)//2)-1\n",
        "        for k in range(l,len(a)):\n",
        "            a[k-j] = temp[k]\n",
        "            j -= 1"
      ],
      "metadata": {
        "id": "qx1k5HAJDxhE"
      },
      "execution_count": 1,
      "outputs": []
    }
  ]
}