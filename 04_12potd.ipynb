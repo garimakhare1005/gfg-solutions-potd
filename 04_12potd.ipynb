{
  "nbformat": 4,
  "nbformat_minor": 0,
  "metadata": {
    "colab": {
      "provenance": []
    },
    "kernelspec": {
      "name": "python3",
      "display_name": "Python 3"
    },
    "language_info": {
      "name": "python"
    }
  },
  "cells": [
    {
      "cell_type": "markdown",
      "source": [
        "Given a string of digits, the task is to check if it is a ‘sum-string’. A string S is called a sum-string when it is broken down into more than one substring and the rightmost substring can be written as a sum of two substrings before it and the same is recursively true for substrings before it.\n",
        "\n",
        "Example 1:\n",
        "\n",
        "Input:\n",
        "S = \"12243660\"\n",
        "Output:\n",
        "1\n",
        "Explanation:\n",
        "\"12243660\" can be broken down as {\"12\", \"24\", \"36\", \"60\"}.\n",
        "We can get 60 from 24 and 36 as 24 + 36 = 60. Similarly 36 can be written as 12 + 24.\n",
        "Example 2:\n",
        "\n",
        "Input:\n",
        "1111112223\n",
        "Output:\n",
        "1\n",
        "Explanation:\n",
        "\"1111112223\" can be broken down as {\"1\", \"111\", \"112\", \"223\"}.\n",
        "We can get 223 from 111 and 1112 as 111 + 112 = 223. Similarly 112 can be written as 1 + 111.\n",
        "Your Task:\n",
        "\n",
        "You don't need to read input or print anything. Your task is to complete the function isSumString() which takes the string S and returns 1 is S is a sum-string otherwise returns 0.\n",
        "\n",
        "Expected Time Complexity: O(|S|3)\n",
        "Expected Auxiliary Space: O(|S|)\n",
        "\n",
        "Constraints:\n",
        "1 <= |S| <= 500\n",
        "String consists of characters from '0' to '9'."
      ],
      "metadata": {
        "id": "ItreCeE4XYah"
      }
    },
    {
      "cell_type": "code",
      "source": [
        "class Solution:\n",
        "    def isSumString (ob,s):\n",
        "        n = len(s)\n",
        "        def check(i, j, k):\n",
        "            nonlocal s, n\n",
        "            if k == n:\n",
        "                return True\n",
        "            if k > n:\n",
        "                return False\n",
        "            n1 = int(s[i:j])\n",
        "            n2 = int(s[j:k])\n",
        "            ns = str(n1+n2)\n",
        "            if not s[k:].startswith(ns):\n",
        "                return False\n",
        "            return check(j, k, k+len(ns))\n",
        "\n",
        "        for i in range(1, n):\n",
        "            for j in range(i+1, n):\n",
        "                if check(0, i, j):\n",
        "                    return 1\n",
        "        return 0\n"
      ],
      "metadata": {
        "id": "OOfaHd6nXXrb"
      },
      "execution_count": null,
      "outputs": []
    }
  ]
}