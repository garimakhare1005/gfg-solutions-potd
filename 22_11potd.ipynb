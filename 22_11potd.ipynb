{
  "nbformat": 4,
  "nbformat_minor": 0,
  "metadata": {
    "colab": {
      "provenance": []
    },
    "kernelspec": {
      "name": "python3",
      "display_name": "Python 3"
    },
    "language_info": {
      "name": "python"
    }
  },
  "cells": [
    {
      "cell_type": "markdown",
      "source": [
        "GfG Weekly + You = Perfect Sunday Evenings!\n",
        "Register for free now\n",
        "\n",
        "banner\n",
        "Given a Binary Tree. Check whether it is Symmetric or not, i.e. whether the binary tree is a Mirror image of itself or not.\n",
        "\n",
        "Example 1:\n",
        "\n",
        "Input:\n",
        "         5\n",
        "       /   \\\n",
        "      1     1\n",
        "     /       \\\n",
        "    2         2\n",
        "Output:\n",
        "True\n",
        "Explanation:\n",
        "Tree is mirror image of itself i.e. tree is symmetric\n",
        "Example 2:\n",
        "\n",
        "Input:\n",
        "         5\n",
        "       /   \\\n",
        "      10     10\n",
        "     /  \\     \\\n",
        "    20  20     30\n",
        "Output:\n",
        "False\n",
        "Your Task:\n",
        "You don't need to read input or print anything. Your task is to complete the function isSymmetric() which takes the root of the Binary Tree as its input and returns True if the given Binary Tree is the same as the Mirror image of itself. Else, it returns False.\n",
        "\n",
        "Expected Time Complexity: O(N).\n",
        "Expected Auxiliary Space: O(Height of the Tree).\n",
        "\n",
        "Constraints:\n",
        "0<=N<=105\n",
        "\n"
      ],
      "metadata": {
        "id": "PZLvsiMDvxbr"
      }
    },
    {
      "cell_type": "code",
      "source": [
        "\n",
        "class Solution:\n",
        "    def isSymmetric(self, root):\n",
        "\n",
        "        if not root:\n",
        "            return True\n",
        "\n",
        "        def fun(node1, node2):\n",
        "            if not node1 and not node2:\n",
        "                return True\n",
        "            elif (not node1 or not node2) or (node1.data!=node2.data):\n",
        "                return False\n",
        "            return fun(node1.left, node2.right) and fun(node1.right, node2.left)\n",
        "\n",
        "        return fun(root.left, root.right)"
      ],
      "metadata": {
        "id": "py1H1nnnvyQ0"
      },
      "execution_count": 1,
      "outputs": []
    }
  ]
}