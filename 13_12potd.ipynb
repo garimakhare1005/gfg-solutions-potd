{
  "cells": [
    {
      "cell_type": "markdown",
      "source": [
        "Given a positive integer N, count all possible distinct binary strings of length N such that there are no consecutive 1’s. Output your answer modulo 109 + 7.\n",
        "\n",
        "Example 1:\n",
        "\n",
        "Input:\n",
        "N = 3\n",
        "Output: 5\n",
        "Explanation:\n",
        "5 strings are (000,\n",
        "001, 010, 100, 101).\n",
        "Example 2:\n",
        "\n",
        "Input:\n",
        "N = 2\n",
        "Output: 3\n",
        "Explanation:\n",
        "3 strings are (00,01,10).\n",
        "Your Task:\n",
        "You don't have to print answer or take inputs. Complete the function countStrings() which takes single integer n, as input parameters and returns an integer denoting the answer.\n",
        "\n",
        "Expected Time Complexity: O(N)\n",
        "Expected Auxiliary Space: O(N)\n",
        "\n",
        "Constraints:\n",
        "1 ≤ N ≤ 105\n",
        "\n"
      ],
      "metadata": {
        "id": "mKgqj42247O_"
      }
    },
    {
      "cell_type": "code",
      "source": [
        "class Solution:\n",
        "\n",
        "    def countStrings(self,n):\n",
        "        # code here\n",
        "        mod = 10**9 + 7\n",
        "        dp = [0] * (n+1)\n",
        "\n",
        "        if n == 1 or n == 2:\n",
        "            return n + 1\n",
        "\n",
        "        dp[1] = 2\n",
        "        dp[2] = 3\n",
        "\n",
        "        for i in range(3, n+1):\n",
        "            dp[i] = (dp[i-1] + dp[i-2]) % mod\n",
        "\n",
        "        return dp[n]"
      ],
      "metadata": {
        "id": "DWQY8Rxm5cey"
      },
      "execution_count": 2,
      "outputs": []
    }
  ],
  "metadata": {
    "colab": {
      "provenance": []
    },
    "kernelspec": {
      "display_name": "Python 3",
      "name": "python3"
    },
    "language_info": {
      "name": "python"
    }
  },
  "nbformat": 4,
  "nbformat_minor": 0
}