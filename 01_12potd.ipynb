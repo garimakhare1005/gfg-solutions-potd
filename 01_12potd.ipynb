{
  "nbformat": 4,
  "nbformat_minor": 0,
  "metadata": {
    "colab": {
      "provenance": []
    },
    "kernelspec": {
      "name": "python3",
      "display_name": "Python 3"
    },
    "language_info": {
      "name": "python"
    }
  },
  "cells": [
    {
      "cell_type": "markdown",
      "source": [
        "Given a Binary Search Tree that contains unique positive integer values greater than 0. The task is to complete the function isDeadEnd which returns true if the BST contains a dead end else returns false. Here Dead End means a leaf node, at which no other node can be inserted.\n",
        "\n",
        "Example 1:\n",
        "\n",
        "Input :   \n",
        "               8\n",
        "             /   \\\n",
        "           5      9\n",
        "         /  \\     \n",
        "        2    7\n",
        "       /\n",
        "      1     \n",
        "          \n",
        "Output :\n",
        "Yes\n",
        "Explanation :\n",
        "Node 1 is a Dead End in the given BST.\n",
        "Example 2:\n",
        "\n",
        "Input :     \n",
        "              8\n",
        "            /   \\\n",
        "           7     10\n",
        "         /      /   \\\n",
        "        2      9     13\n",
        "\n",
        "Output :\n",
        "Yes\n",
        "Explanation :\n",
        "Node 9 is a Dead End in the given BST.\n",
        "Your Task: You don't have to input or print anything. Complete the function isDeadEnd() which takes BST as input and returns a boolean value.\n",
        "\n",
        "Expected Time Complexity: O(N), where N is the number of nodes in the BST.\n",
        "Expected Space Complexity: O(N)\n",
        "\n",
        "Constraints:\n",
        "1 <= N <= 1001\n",
        "1 <= Value of Nodes <= 10001\n",
        "\n"
      ],
      "metadata": {
        "id": "SLCgAm9ZRzv9"
      }
    },
    {
      "cell_type": "code",
      "source": [
        "# Your task is to complete this function\n",
        "# function should return true/false or 1/0\n",
        "from collections import deque\n",
        "\n",
        "class Solution:\n",
        "    def isDeadEnd(self, root):\n",
        "        # Initialize a queue for BFS traversal\n",
        "        queue = deque()\n",
        "        queue.append(root)\n",
        "\n",
        "        # Sets to store visited nodes and leaf nodes\n",
        "        visited_nodes, leaf_nodes = set(), set()\n",
        "\n",
        "        # Perform BFS traversal\n",
        "        while queue:\n",
        "            current_node = queue.popleft()\n",
        "\n",
        "            # Add current node to the visited set\n",
        "            visited_nodes.add(current_node.data)\n",
        "\n",
        "            # Enqueue left child if present\n",
        "            if current_node.left:\n",
        "                queue.append(current_node.left)\n",
        "\n",
        "            # Enqueue right child if present\n",
        "            if current_node.right:\n",
        "                queue.append(current_node.right)\n",
        "\n",
        "            # Add current node to the leaf set if it is a leaf node\n",
        "            if not current_node.left and not current_node.right:\n",
        "                leaf_nodes.add(current_node.data)\n",
        "\n",
        "        # Check for dead ends in the leaf nodes\n",
        "        for leaf in leaf_nodes:\n",
        "            # If the leaf node is 1 and its next node is 2, or if the leaf node's neighbors are present, return 1\n",
        "            if (leaf == 1 and 2 in visited_nodes) or (leaf - 1 in visited_nodes and leaf + 1 in visited_nodes):\n",
        "                return 1\n",
        "\n",
        "        # No dead end found\n",
        "        return 0\n"
      ],
      "metadata": {
        "id": "gK0qjMgcRwSt"
      },
      "execution_count": null,
      "outputs": []
    }
  ]
}