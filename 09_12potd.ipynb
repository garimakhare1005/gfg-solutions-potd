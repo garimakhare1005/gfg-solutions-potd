{
  "cells": [
    {
      "cell_type": "markdown",
      "source": [
        "Given a number n, the task is to find out whether this number is a Smith number or not. A Smith number is a composite number whose sum of digits is equal to the sum of digits of its prime factors.\n",
        "\n",
        "Example 1:\n",
        "\n",
        "Input:\n",
        "n = 4\n",
        "Output:\n",
        "1\n",
        "Explanation:\n",
        "The sum of the digits of 4 is 4, and the sum of the digits of its prime factors is 2 + 2 = 4.\n",
        "Example 2:\n",
        "\n",
        "Input:\n",
        "n = 378\n",
        "Output:\n",
        "1\n",
        "Explanation:\n",
        "378 = 21*33*71 is a Smith number since 3+7+8 = 2*1+3*3+7*1.\n",
        "Your Task:\n",
        "You don't need to read input or print anything. Your task is to complete the function smithNum() which takes an Integer n as input and returns the answer.\n",
        "\n",
        "Expected Time Complexity: O(n * log(n))\n",
        "Expected Auxiliary Space: O(n)\n",
        "\n",
        "Constraints:\n",
        "1 <= n <= 105\n",
        "\n"
      ],
      "metadata": {
        "id": "MTYTT89CFjrk"
      }
    },
    {
      "cell_type": "code",
      "source": [
        "import math\n",
        "class Solution:\n",
        "    def smithNum(self, n):\n",
        "        # code here\n",
        "        def sum_of_digits(number):\n",
        "            return sum(int(digit) for digit in str(number))\n",
        "        def is_prime(num):\n",
        "            if num < 2:\n",
        "                return False\n",
        "            for j in range(2, round(math.sqrt(num)) + 1):\n",
        "                if num % j == 0:\n",
        "                    return False\n",
        "            return True\n",
        "        if is_prime(n):\n",
        "            return 0\n",
        "        original_sum = sum_of_digits(n)\n",
        "        factors_sum = 0\n",
        "        for i in range(2, round(math.sqrt(n)+1)):\n",
        "            if is_prime(i):\n",
        "                while n % i == 0:\n",
        "                    factors_sum += sum_of_digits(i)\n",
        "                    n //= i\n",
        "        if n > 1 and is_prime(n):\n",
        "            factors_sum += sum_of_digits(n)\n",
        "        return 1 if (original_sum == factors_sum) else 0"
      ],
      "metadata": {
        "id": "nKqCro0bFdtZ"
      },
      "execution_count": 1,
      "outputs": []
    }
  ],
  "metadata": {
    "colab": {
      "provenance": []
    },
    "kernelspec": {
      "display_name": "Python 3",
      "name": "python3"
    },
    "language_info": {
      "name": "python"
    }
  },
  "nbformat": 4,
  "nbformat_minor": 0
}