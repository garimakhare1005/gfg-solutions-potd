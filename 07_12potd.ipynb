{
  "cells": [
    {
      "cell_type": "markdown",
      "source": [
        "Given an array of N elements and L and R, print the number of sub-arrays such that the value of the maximum array element in that subarray is at least L and at most R.\n",
        "\n",
        "Example 1:\n",
        "\n",
        "Input :\n",
        "Arr = {2, 0, 11, 3, 0}\n",
        "L = 1 and R = 10\n",
        "Output :\n",
        "4\n",
        "Explanation:\n",
        "The sub-arrays {2}, {2, 0}, {3} and {3, 0} have maximum in range 1-10.\n",
        "Example 2:\n",
        "\n",
        "Input :\n",
        "Arr = {3, 4, 1}\n",
        "L = 2 and R = 4\n",
        "Output :\n",
        "5\n",
        "Explanation:\n",
        "The sub-arrays {3}, {3, 4}, {3,4,1}, {4} and {4, 1} have maximum in range 2-4.\n",
        "Your Task:\n",
        "This is a function problem. The input is already taken care of by the driver code. You only need to complete the function countSubarrays() that takes an array arr, sizeOfArray (n), element L, integer R, and return the number of subarray with the maximum in range L-R. The driver code takes care of the printing.\n",
        "\n",
        "Expected Time Complexity: O(N).\n",
        "Expected Auxiliary Space: O(1).\n",
        "\n",
        "Constraints:\n",
        "1 ≤ N ≤ 105\n",
        "0 ≤ arr[i] ≤ 109\n",
        "1 ≤ L ≤ R ≤ 109"
      ],
      "metadata": {
        "id": "2RrxEkYGI0eT"
      }
    },
    {
      "cell_type": "code",
      "source": [
        "class Solution:\n",
        "    def countSubarrays(self, a,n,L,R):\n",
        "        # Complete the function\n",
        "        start,end,empire,ans=0,0,0,0\n",
        "        for end in range(0,n):\n",
        "            if a[end]>=L and a[end]<=R:\n",
        "                empire=end-start+1\n",
        "            if a[end]>R:\n",
        "                empire=0\n",
        "                start=end+1\n",
        "            ans+=empire\n",
        "        return ans"
      ],
      "metadata": {
        "id": "t6lW2ZpYIvOa"
      },
      "execution_count": 1,
      "outputs": []
    }
  ],
  "metadata": {
    "colab": {
      "provenance": []
    },
    "kernelspec": {
      "display_name": "Python 3",
      "name": "python3"
    },
    "language_info": {
      "name": "python"
    }
  },
  "nbformat": 4,
  "nbformat_minor": 0
}