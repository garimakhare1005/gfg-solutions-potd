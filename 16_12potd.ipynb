{
  "cells": [
    {
      "cell_type": "markdown",
      "source": [
        "Given a length n, count the number of strings of length n that can be made using a, b and c with at-most one b and two c allowed.\n",
        "\n",
        "Example 1:\n",
        "\n",
        "Input: n = 1\n",
        "Output: 3\n",
        "Explanation: Possible strings are: \"a\",\n",
        "\"b\" and \"c\"\n",
        "Example 2:\n",
        "\n",
        "Input: n = 3\n",
        "Output: 19\n",
        "Explanation: Number of strings with 3\n",
        "occurrances of a: 1\n",
        "2-a and 1-b: 3\n",
        "2-a and 1-c: 3\n",
        "1-a, 1-b and 1-c: 6\n",
        "1-a and 2-c: 3\n",
        "1-b and 2-c: 3\n",
        "So, total number of strings of length 3\n",
        "is 1 + 3 + 3 + 6 + 3 + 3 = 19\n",
        "Your Task:  \n",
        "You don't need to read input or print anything. Your task is to complete the function countStr() which takes the n as inputs and returns the total number of valid strings.\n",
        "\n",
        "Expected Time Complexity: O(1)\n",
        "Expected Auxiliary Space: O(1)\n",
        "\n",
        "Constraints:\n",
        "1 ≤ n ≤ 105"
      ],
      "metadata": {
        "id": "70aaLJqseN_u"
      }
    },
    {
      "cell_type": "code",
      "source": [
        "class Solution:\n",
        "\n",
        "    def countStr(self, n):\n",
        "        # code here\n",
        "        return int(0.5*(n**3)+1.5*n+1)"
      ],
      "metadata": {
        "id": "VZAwH_c8eWGB"
      },
      "execution_count": 3,
      "outputs": []
    }
  ],
  "metadata": {
    "colab": {
      "provenance": []
    },
    "kernelspec": {
      "display_name": "Python 3",
      "name": "python3"
    },
    "language_info": {
      "name": "python"
    }
  },
  "nbformat": 4,
  "nbformat_minor": 0
}