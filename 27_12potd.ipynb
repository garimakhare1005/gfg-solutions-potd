{
  "nbformat": 4,
  "nbformat_minor": 0,
  "metadata": {
    "colab": {
      "provenance": []
    },
    "kernelspec": {
      "name": "python3",
      "display_name": "Python 3"
    },
    "language_info": {
      "name": "python"
    }
  },
  "cells": [
    {
      "cell_type": "markdown",
      "source": [
        "Give a N*N square matrix, return an array of its anti-diagonals in top-leftmost to bottom-rightmost order. In an element of a anti-diagonal (i, j), surrounding elements will be (i+1, j-1) and (i-1, j+1). Look at the examples for more clarity.\n",
        "\n",
        "Example 1:\n",
        "\n",
        "Input:\n",
        "N = 2\n",
        "matrix[][] = 1 2\n",
        "            3 4\n",
        "Output:\n",
        "1 2 3 4\n",
        "Explanation:\n",
        "List of anti-diagnoals in order is\n",
        "{1}, {2, 3}, {4}\n",
        "Example 2:\n",
        "\n",
        "Input:\n",
        "N = 3\n",
        "matrix[][] = 3 2 3\n",
        "            4 5 1\n",
        "            7 8 9\n",
        "Output:\n",
        "3 2 4 3 5 7 1 8 9\n",
        "Explanation:\n",
        "List of anti-diagnoals in order is\n",
        "{3}, {2, 4}, {3, 5, 7}, {1, 8}, {9}\n",
        "Your Task:\n",
        "You dont need to read input or print anything. Complete the function antiDiagonalPattern() that takes matrix as input parameter and returns a list of integers in order of the values visited in the anti-Diagonal pattern.\n",
        "\n",
        "Expected Time Complexity: O(N * N)\n",
        "Expected Auxiliary Space: O(N * N)\n",
        "\n",
        "\n",
        "Constraints:\n",
        "1 <= N <= 100\n",
        "0 <= mat[i][j] <= 100"
      ],
      "metadata": {
        "id": "RcOjBd-QiqnW"
      }
    },
    {
      "cell_type": "code",
      "execution_count": 1,
      "metadata": {
        "id": "f4-Lg5AuijC7"
      },
      "outputs": [],
      "source": [
        "class Solution:\n",
        "    def antiDiagonalPattern(self,matrix):\n",
        "        # Code here\n",
        "        result = []\n",
        "        n = len(matrix)\n",
        "\n",
        "        for d in range(n + n - 1):\n",
        "            cd = []   # current_diagonal\n",
        "            for i in range(max(0, d - n + 1), min(d, n - 1) + 1):\n",
        "                j = d - i\n",
        "                cd.append(matrix[i][j])\n",
        "            result.extend(cd)\n",
        "        return result\n"
      ]
    }
  ]
}