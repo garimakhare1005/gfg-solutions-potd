{
  "nbformat": 4,
  "nbformat_minor": 0,
  "metadata": {
    "colab": {
      "provenance": []
    },
    "kernelspec": {
      "name": "python3",
      "display_name": "Python 3"
    },
    "language_info": {
      "name": "python"
    }
  },
  "cells": [
    {
      "cell_type": "markdown",
      "source": [
        "Given a positive integer N, return the Nth row of pascal's triangle.\n",
        "Pascal's triangle is a triangular array of the binomial coefficients formed by summing up the elements of previous row.\n",
        "The elements can be large so return it modulo 109 + 7.\n",
        "\n",
        "File:PascalTriangleAnimated2.gif\n",
        "\n",
        "Example 1:\n",
        "\n",
        "Input:\n",
        "N = 4\n",
        "Output:\n",
        "1 3 3 1\n",
        "Explanation:\n",
        "4th row of pascal's triangle is 1 3 3 1.\n",
        "Example 2:\n",
        "\n",
        "Input:\n",
        "N = 5\n",
        "Output:\n",
        "1 4 6 4 1\n",
        "Explanation:\n",
        "5th row of pascal's triangle is 1 4 6 4 1.\n",
        "Your Task:\n",
        "Complete the function nthRowOfPascalTriangle() which takes n, as input parameters and returns an array representing the answer. You don't to print answer or take inputs.\n",
        "\n",
        "Expected Time Complexity: O(N2)\n",
        "Expected Auxiliary Space: O(N2)\n",
        "\n",
        "Constraints:\n",
        "1 ≤ N ≤ 103\n"
      ],
      "metadata": {
        "id": "1zDu3guHD_U8"
      }
    },
    {
      "cell_type": "code",
      "source": [
        "class Solution:\n",
        "\n",
        "    def nthRowOfPascalTriangle(self,n):\n",
        "\n",
        "        if n==1:\n",
        "            return [1]\n",
        "\n",
        "        if n==2:\n",
        "            return [1,1]\n",
        "\n",
        "        mod=10**9+7\n",
        "        res=[1]+[0]*(n-2)+[1]\n",
        "        last_row=self.nthRowOfPascalTriangle(n-1)\n",
        "\n",
        "        for i in range(1,n-1):\n",
        "            res[i]=(last_row[i-1]+last_row[i])%mod\n",
        "\n",
        "        return res"
      ],
      "metadata": {
        "id": "6wwFmFg8EG8P"
      },
      "execution_count": 2,
      "outputs": []
    }
  ]
}