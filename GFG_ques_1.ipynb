{
  "nbformat": 4,
  "nbformat_minor": 0,
  "metadata": {
    "colab": {
      "provenance": []
    },
    "kernelspec": {
      "name": "python3",
      "display_name": "Python 3"
    },
    "language_info": {
      "name": "python"
    }
  },
  "cells": [
    {
      "cell_type": "markdown",
      "source": [
        "PREDICT THE COLUMN\n",
        "Given a matrix(2D array) M of size N*N consisting of 0s and 1s only. The task is to find the column with maximum number of 0s. If more than one column exists, print the one which comes first. If the maximum number of 0s is 0 then return -1.\n",
        "\n",
        "Example:\n",
        "\n",
        "Input:\n",
        "N = 3\n",
        "M[][] = {{0, 0, 0},\n",
        "          {1, 0, 1},\n",
        "          {0, 1, 1}}\n",
        "Output:\n",
        "0\n",
        "Explanation:\n",
        "0th column (0-based indexing) is having 2 zeros which is maximum among all columns and comes first.\n",
        "Your Task:\n",
        "Your task is to complete the function columnWithMaxZero() which should return the column number with the maximum number of zeros.\n",
        "\n",
        "Expected Time Complexity: O(N * N)\n",
        "Expected Auxiliary Space: O(1)\n",
        "\n",
        "Constraints:\n",
        "1 <= N <= 103\n",
        "0 <= A[i][j] <= 1\n",
        "\n"
      ],
      "metadata": {
        "id": "RLcQBs-yHbAv"
      }
    },
    {
      "cell_type": "markdown",
      "source": [
        "Given an integer array and another integer element. The task is to find if the given element is present in array or not.\n",
        "\n",
        "Example 1:\n",
        "\n",
        "Input:\n",
        "n = 4\n",
        "arr[] = {1,2,3,4}\n",
        "x = 3\n",
        "Output: 2\n",
        "Explanation: There is one test case\n",
        "with array as {1, 2, 3 4} and element\n",
        "to be searched as 3.  Since 3 is\n",
        "present at index 2, output is 2.\n",
        "Example 2:\n",
        "\n",
        "Input:\n",
        "n = 5\n",
        "arr[] = {1,2,3,4,5}\n",
        "x = 5\n",
        "Output: 4\n",
        "Explanation: For array elements\n",
        "{1,2,3,4,5} element to be searched\n",
        "is 5 and it is at index 4. So, the\n",
        "output is 4.\n",
        "Your Task:\n",
        "The task is to complete the function search() which takes the array arr[], its size N and the element X as inputs and returns the index of first occurrence of X in the given array. If the element X does not exist in the array, the function should return -1.\n",
        "\n",
        "Expected Time Complexity: O(n).\n",
        "Expected Auxiliary Space: O(1).\n",
        "\n",
        "Constraints:\n",
        "1 <= n <= 106\n",
        "0 <= arr[i] <= 106\n",
        "0 <= x <= 105\n",
        "\n"
      ],
      "metadata": {
        "id": "BqxrYNQjNK4i"
      }
    },
    {
      "cell_type": "code",
      "execution_count": 2,
      "metadata": {
        "colab": {
          "base_uri": "https://localhost:8080/"
        },
        "id": "AMTZgtR8GoDM",
        "outputId": "26b488e7-c5c5-4983-e6c2-e644ea71881d"
      },
      "outputs": [
        {
          "output_type": "execute_result",
          "data": {
            "text/plain": [
              "2"
            ]
          },
          "metadata": {},
          "execution_count": 2
        }
      ],
      "source": [
        "class Solution:\n",
        "    #Complete the below function\n",
        "    def search(self,arr, N, X):\n",
        "        #Your code here\n",
        "        for e in range(N):\n",
        "            if arr[e]==X:\n",
        "                return e\n",
        "        return -1\n",
        "\n",
        "\n",
        "c=Solution()\n",
        "N=4\n",
        "arr=[1,2,3,4]\n",
        "X=3\n",
        "c.search(arr,N,X)\n"
      ]
    }
  ]
}