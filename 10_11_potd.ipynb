{
  "nbformat": 4,
  "nbformat_minor": 0,
  "metadata": {
    "colab": {
      "provenance": []
    },
    "kernelspec": {
      "name": "python3",
      "display_name": "Python 3"
    },
    "language_info": {
      "name": "python"
    }
  },
  "cells": [
    {
      "cell_type": "markdown",
      "source": [
        "Given a pattern containing only I's and D's. I for increasing and D for decreasing. Devise an algorithm to print the minimum number following that pattern. Digits from 1-9 and digits can't repeat.\n",
        "\n",
        "Example 1:\n",
        "\n",
        "Input:\n",
        "D\n",
        "Output:\n",
        "21\n",
        "Explanation:\n",
        "D is meant for decreasing, so we choose the minimum number among all possible numbers like 21,31,54,87,etc.\n",
        "Example 2:\n",
        "\n",
        "Input:\n",
        "IIDDD\n",
        "Output:\n",
        "126543\n",
        "Explanation:\n",
        "Above example is self- explanatory,\n",
        "1 < 2 < 6 > 5 > 4 > 3\n",
        "  I - I - D - D - D\n",
        "Your Task:\n",
        "\n",
        "You don't need to read input or print anything. Your task is to complete the function printMinNumberForPattern() which takes the string S and returns a string containing the minimum number following the valid number.\n",
        "\n",
        "Expected Time Complexity: O(N)\n",
        "Expected Auxiliary Space: O(1)\n",
        "\n",
        "Constraints:\n",
        "1 ≤ Length of String ≤ 8"
      ],
      "metadata": {
        "id": "H7ieUO4CYD-B"
      }
    },
    {
      "cell_type": "code",
      "execution_count": 1,
      "metadata": {
        "id": "vSy0xQ91YDXY"
      },
      "outputs": [],
      "source": [
        "class Solution:\n",
        "    def printMinNumberForPattern(self, pattern):\n",
        "        result = []  # List to store the generated number\n",
        "        stack = []   # Stack to keep track of increasing sequence\n",
        "        num = 1      # Counter for increasing numbers\n",
        "\n",
        "        for char in pattern:\n",
        "            stack.append(str(num))\n",
        "            num += 1\n",
        "\n",
        "            if char == \"I\":\n",
        "                # If 'I' is encountered, add the reversed stack to the result\n",
        "                result += stack[::-1]\n",
        "                stack = []\n",
        "\n",
        "        # Add the remaining numbers to the result\n",
        "        stack.append(str(num))\n",
        "        result += stack[::-1]\n",
        "\n",
        "        # Convert the list of digits to an integer and return\n",
        "        return int(''.join(result))"
      ]
    }
  ]
}