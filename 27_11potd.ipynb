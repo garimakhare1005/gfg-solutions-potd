{
  "nbformat": 4,
  "nbformat_minor": 0,
  "metadata": {
    "colab": {
      "provenance": []
    },
    "kernelspec": {
      "name": "python3",
      "display_name": "Python 3"
    },
    "language_info": {
      "name": "python"
    }
  },
  "cells": [
    {
      "cell_type": "code",
      "source": [
        "class Solution:\n",
        "    def find(self, n, parent):\n",
        "        if parent[n] == n:\n",
        "            return n\n",
        "        parent[n] = self.find(parent[n], parent)\n",
        "        return parent[n]\n",
        "\n",
        "    def union(self, a, b, parent):\n",
        "        x = self.find(a, parent)\n",
        "        y = self.find(b, parent)\n",
        "        if x != y:\n",
        "            parent[x] = y\n",
        "            return False\n",
        "        return True\n",
        "\n",
        "    #Function to detect cycle using DSU in an undirected graph.\n",
        "    def detectCycle(self, V, adj):\n",
        "        #Code here\n",
        "        parent = list(range(V))\n",
        "\n",
        "        for i in range(V):\n",
        "            for j in range(len(adj[i])):\n",
        "                if i < adj[i][j] and self.union(i, adj[i][j], parent):\n",
        "                    return 1\n",
        "        return 0"
      ],
      "metadata": {
        "id": "_qmbvpxdkG3x"
      },
      "execution_count": 1,
      "outputs": []
    }
  ]
}