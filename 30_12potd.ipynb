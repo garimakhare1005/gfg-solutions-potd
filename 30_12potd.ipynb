{
  "nbformat": 4,
  "nbformat_minor": 0,
  "metadata": {
    "colab": {
      "provenance": []
    },
    "kernelspec": {
      "name": "python3",
      "display_name": "Python 3"
    },
    "language_info": {
      "name": "python"
    }
  },
  "cells": [
    {
      "cell_type": "code",
      "source": [
        "#User function Template for python3\n",
        "\n",
        "class Solution:\n",
        "\n",
        "    #Complete this function\n",
        "\n",
        "    #Function to return the name of candidate that received maximum votes.\n",
        "    def winner(self,arr,n):\n",
        "        # Your code here\n",
        "        # return the name of the winning candidate and the votes he recieved\n",
        "        poll={}\n",
        "        for candidate in arr:\n",
        "            if(candidate in poll):\n",
        "                poll[candidate]+=1\n",
        "            else:\n",
        "                poll[candidate]=1\n",
        "        maxVotes=max(poll.values())\n",
        "        winners=[]\n",
        "        for i,j in poll.items():\n",
        "            if(j==maxVotes):\n",
        "                winners.append(i)\n",
        "        winners.sort()\n",
        "\n",
        "        return (winners[0],maxVotes)\n"
      ],
      "metadata": {
        "id": "Ebxwe3R-GB1K"
      },
      "execution_count": 1,
      "outputs": []
    }
  ]
}