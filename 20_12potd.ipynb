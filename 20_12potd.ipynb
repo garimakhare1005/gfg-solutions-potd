{
  "cells": [
    {
      "cell_type": "markdown",
      "source": [
        "You are given an array A of n elements. There are two players player 1 and player 2.\n",
        "A player can choose any of element from an array and remove it. If the bitwise XOR of all remaining elements equals 0 after removal of the selected element, then that player loses. Find out the winner if player 1 starts the game and they both play their best.\n",
        "\n",
        "Example 1:\n",
        "\n",
        "Input:\n",
        "n = 3\n",
        "A = [3, 3, 2]\n",
        "Output:\n",
        "2\n",
        "Explaination:\n",
        "Optimal removal of values are 3, 2, 3 sequentially. Then the array is empty. So player 2 wins.\n",
        "Example 2:\n",
        "\n",
        "Input:\n",
        "n = 2\n",
        "A = [3, 3]\n",
        "Output:\n",
        "1\n",
        "Explaination:\n",
        "Since the xor of an array is already 0, player 1 wins.\n",
        "Your Task:\n",
        "You do not need to read input or print anything. Your task is to complete the function findWinner() which takes the number n and the array A as input parameters and returns an integer denoting the winner.\n",
        "\n",
        "Expected Time Complexity: O(n)\n",
        "Expected Auxiliary Space: O(1)\n",
        "\n",
        "Constraints:\n",
        "1 ≤ n ≤ 105\n",
        "0 ≤ A[i] ≤ 109"
      ],
      "metadata": {
        "id": "70aaLJqseN_u"
      }
    },
    {
      "cell_type": "code",
      "source": [
        "class Solution:\n",
        "    def findWinner(self, n, A):\n",
        "        # code here\n",
        "\n",
        "        # freq = defaultdict(int)\n",
        "        xor = 0\n",
        "\n",
        "        for i in range(n):\n",
        "            # freq[A[i]]+=1\n",
        "            xor^=A[i]\n",
        "        if xor == 0:\n",
        "            return 1\n",
        "\n",
        "\n",
        "\n",
        "        return 2 if n%2 else 1\n"
      ],
      "metadata": {
        "id": "VZAwH_c8eWGB"
      },
      "execution_count": null,
      "outputs": []
    }
  ],
  "metadata": {
    "colab": {
      "provenance": []
    },
    "kernelspec": {
      "display_name": "Python 3",
      "name": "python3"
    },
    "language_info": {
      "name": "python"
    }
  },
  "nbformat": 4,
  "nbformat_minor": 0
}