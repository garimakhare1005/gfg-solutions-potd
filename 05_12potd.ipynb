{
  "nbformat": 4,
  "nbformat_minor": 0,
  "metadata": {
    "colab": {
      "provenance": []
    },
    "kernelspec": {
      "name": "python3",
      "display_name": "Python 3"
    },
    "language_info": {
      "name": "python"
    }
  },
  "cells": [
    {
      "cell_type": "markdown",
      "source": [
        "Given an array arr[] denoting heights of N towers and a positive integer K.\n",
        "\n",
        "For each tower, you must perform exactly one of the following operations exactly once.\n",
        "\n",
        "Increase the height of the tower by K\n",
        "Decrease the height of the tower by K\n",
        "Find out the minimum possible difference between the height of the shortest and tallest towers after you have modified each tower.\n",
        "\n",
        "You can find a slight modification of the problem here.\n",
        "Note: It is compulsory to increase or decrease the height by K for each tower. After the operation, the resultant array should not contain any negative integers.\n",
        "\n",
        "Example 1:\n",
        "\n",
        "Input:\n",
        "K = 2, N = 4\n",
        "Arr[] = {1, 5, 8, 10}\n",
        "Output:\n",
        "5\n",
        "Explanation:\n",
        "The array can be modified as\n",
        "{1+k, 5-k, 8-k, 10-k} = {3, 3, 6, 8}.\n",
        "The difference between\n",
        "the largest and the smallest is 8-3 = 5.\n",
        "Example 2:\n",
        "\n",
        "Input:\n",
        "K = 3, N = 5\n",
        "Arr[] = {3, 9, 12, 16, 20}\n",
        "Output:\n",
        "11\n",
        "Explanation:\n",
        "The array can be modified as\n",
        "{3+k, 9+k, 12-k, 16-k, 20-k} -> {6, 12, 9, 13, 17}.\n",
        "The difference between\n",
        "the largest and the smallest is 17-6 = 11.\n",
        "Your Task:\n",
        "You don't need to read input or print anything. Your task is to complete the function getMinDiff() which takes the arr[], n, and k as input parameters and returns an integer denoting the minimum difference.\n",
        "\n",
        "Expected Time Complexity: O(N*logN)\n",
        "Expected Auxiliary Space: O(N)\n",
        "\n",
        "Constraints\n",
        "1 ≤ K ≤ 109\n",
        "1 ≤ N ≤ 105\n",
        "1 ≤ Arr[i] ≤ 109"
      ],
      "metadata": {
        "id": "NKZQdjYU_OTA"
      }
    },
    {
      "cell_type": "code",
      "source": [
        "class Solution:\n",
        "    def getMinDiff(self,arr, n, k):\n",
        "        # Step 1: Sort the array\n",
        "        arr.sort()\n",
        "\n",
        "        # Step 2: Initialize the initial difference\n",
        "        ans = arr[n - 1] - arr[0]\n",
        "\n",
        "        # Step 3: Iterate through the array\n",
        "        for i in range(1, n):\n",
        "            if arr[i] < k:\n",
        "                continue\n",
        "            temp_max = max(arr[i - 1] + k, arr[n - 1] - k)\n",
        "            temp_min = min(arr[0] + k, arr[i] - k)\n",
        "            ans = min(ans, abs(temp_max - temp_min))\n",
        "\n",
        "        return ans\n"
      ],
      "metadata": {
        "id": "-kud7rkq_VK1"
      },
      "execution_count": 1,
      "outputs": []
    }
  ]
}