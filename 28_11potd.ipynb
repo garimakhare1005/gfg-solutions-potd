{
  "nbformat": 4,
  "nbformat_minor": 0,
  "metadata": {
    "colab": {
      "provenance": []
    },
    "kernelspec": {
      "name": "python3",
      "display_name": "Python 3"
    },
    "language_info": {
      "name": "python"
    }
  },
  "cells": [
    {
      "cell_type": "markdown",
      "source": [
        "Given a directed graph with V nodes and E edges, if there is an edge from u to v, then we will say that u depends on v. Number of Dependencies (NoD) for a node x is the total count of nodes that x depends upon. Find out the sum of number of dependencies of every node.\n",
        "\n",
        "Example 1:\n",
        "\n",
        "Input:\n",
        "V = 4\n",
        "E = 4\n",
        "Edges = { {0,2}, {0,3}, {1,3}, {2,3} }\n",
        "![image.png]()\n",
        "\n",
        "\n",
        "Output:\n",
        "4\n",
        "Explanation:\n",
        "For the graph in diagram,\n",
        "A depends on C and D i.e. A's NoD is 2,\n",
        "B depends on D i.e. B's NoD is 1,\n",
        "C depends on D i.e. D's NoD is 1,\n",
        "and D depends on none.\n",
        "Hence answer -> 0 + 1 + 1 + 2 = 4\n",
        "Example 2:\n",
        "\n",
        "Input:\n",
        "V = 4\n",
        "E = 3\n",
        "Edges = { {0,3}, {0,2}, {0,1} }\n",
        "Output:\n",
        "3\n",
        "Explanation:\n",
        "The sum of dependencies=3+0+0+0=3.\n",
        "Your Task:\n",
        "You don't need to read input or print anything. Your task is to complete the function sumOfDependencies() which takes the adj (Adjacency list) and V (Number of nodes) as input parameters and returns the total sum of Number of Dependencies of all nodes.\n",
        "Expected Time Complexity: O(V)\n",
        "Expected Auxillary Space: O(1)\n",
        "\n",
        "Constraints:\n",
        "1 <= V <= 105\n",
        "1 <= E <= 105\n",
        "\n",
        "0 <= Edges[i][0], Edges[i][1] <= V-1"
      ],
      "metadata": {
        "id": "Fm_B6pQVZApA"
      }
    },
    {
      "cell_type": "code",
      "source": [
        "\n",
        "class Solution:\n",
        "    def sumOfDependencies(self,adj,V):\n",
        "        dic={}\n",
        "        s=0\n",
        "        for i in range(V):\n",
        "            s+=len(adj[i])\n",
        "        return s\n",
        "\n",
        "        #code here"
      ],
      "metadata": {
        "id": "RrFsnzfBZNsa"
      },
      "execution_count": 1,
      "outputs": []
    }
  ]
}