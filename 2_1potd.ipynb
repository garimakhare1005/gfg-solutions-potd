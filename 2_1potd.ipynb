{
  "nbformat": 4,
  "nbformat_minor": 0,
  "metadata": {
    "colab": {
      "provenance": []
    },
    "kernelspec": {
      "name": "python3",
      "display_name": "Python 3"
    },
    "language_info": {
      "name": "python"
    }
  },
  "cells": [
    {
      "cell_type": "code",
      "source": [
        "class Solution():\n",
        "    def maxSumWithK(self, a, n, k):\n",
        "        maxend = 0\n",
        "        s = 0\n",
        "        res = float('-inf')\n",
        "        for i in range(n):\n",
        "            s += a[i]\n",
        "            if i >= k:\n",
        "                s -= a[i - k]\n",
        "                maxend = max(0, a[i - k], a[i - k] + maxend)\n",
        "            if i >= k - 1:\n",
        "                res = max(res, s + maxend)\n",
        "        return res\n",
        "\n"
      ],
      "metadata": {
        "id": "Ebxwe3R-GB1K"
      },
      "execution_count": null,
      "outputs": []
    },
    {
      "cell_type": "markdown",
      "source": [],
      "metadata": {
        "id": "zwZQxAvTukFl"
      }
    }
  ]
}