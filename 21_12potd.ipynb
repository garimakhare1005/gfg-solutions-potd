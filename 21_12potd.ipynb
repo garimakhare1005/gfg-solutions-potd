{
  "cells": [
    {
      "cell_type": "markdown",
      "source": [
        "There are N children standing in a line. Each child is assigned a rating value given in the integer array ratings.\n",
        "You are giving candies to these children subjected to the following requirements:\n",
        "\n",
        "Each child must have atleast one candy.\n",
        "Children with a higher rating than it's neighbours get more candies than neighbors.\n",
        "Return the minimum number of candies you need to have to distribute.\n",
        "\n",
        "Example 1:\n",
        "\n",
        "Input:\n",
        "N = 3\n",
        "ratings = [1, 0, 2]\n",
        "Output:\n",
        "5\n",
        "Explanation:\n",
        "You can allocate to the first, second and third child with 2, 1, 2 candies respectively.\n",
        "Example 2:\n",
        "\n",
        "Input:\n",
        "N = 3\n",
        "ratings = [1, 2, 2]\n",
        "Output:\n",
        "4\n",
        "Explanation:\n",
        "You can allocate to the first, second and third child with 1, 2, 1 candies respectively.\n",
        "The third child gets 1 candy because it statisfies the above two conditions.\n",
        "Your Task:\n",
        "You don't need to read input or print anything. Your task is to complete the function minCandy() which takes the interger N and integer array ratings as parameters and returns the minimum number of candies you need to have to distribute.\n",
        "\n",
        "Expected Time Complexity: O(N)\n",
        "Expected Auxiliary Space: O(N)\n",
        "\n",
        "Constraints:\n",
        "1 ≤ N ≤ 105\n",
        "0 ≤ ratingsi ≤ 109"
      ],
      "metadata": {
        "id": "44Qgj7bsB96e"
      }
    },
    {
      "cell_type": "code",
      "source": [
        "class Solution:\n",
        "   def minCandy(self, N, ratings):\n",
        "        # Code here\n",
        "        candies = [1]*N\n",
        "        for i in range(1, N):\n",
        "            if ratings[i] > ratings[i-1]:\n",
        "                candies[i] = candies[i-1]+1\n",
        "\n",
        "        for i in range(N-2, -1, -1):\n",
        "            if ratings[i] > ratings[i+1] and candies[i] <= candies[i+1]+1:\n",
        "                candies[i] = candies[i+1]+1\n",
        "        return sum(candies)"
      ],
      "metadata": {
        "id": "zi_C7OH4CEZL"
      },
      "execution_count": 1,
      "outputs": []
    }
  ],
  "metadata": {
    "colab": {
      "provenance": []
    },
    "kernelspec": {
      "display_name": "Python 3",
      "name": "python3"
    },
    "language_info": {
      "name": "python"
    }
  },
  "nbformat": 4,
  "nbformat_minor": 0
}