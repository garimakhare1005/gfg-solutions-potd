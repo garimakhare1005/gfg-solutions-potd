{
  "cells": [
    {
      "cell_type": "markdown",
      "source": [
        "Given a square matrix of size n*n. The task is to find the determinant of this matrix.\n",
        "\n",
        "Example 1:\n",
        "\n",
        "Input:\n",
        "n = 4\n",
        "matrix[][] = {{1, 0, 2, -1},\n",
        "              {3, 0, 0, 5},\n",
        "              {2, 1, 4, -3},\n",
        "              {1, 0, 5, 0}}\n",
        "Output: 30\n",
        "Explanation:\n",
        "Determinant of the given matrix is 30.\n",
        "Example 2:\n",
        "\n",
        "Input:\n",
        "n = 3\n",
        "matrix[][] = {{1, 2, 3},\n",
        "              {4, 5, 6},\n",
        "              {7, 10, 9}}\n",
        "Output: 12\n",
        "Explanation:\n",
        "Determinant of the given matrix is 12.\n",
        "Your Task:\n",
        "You don't need to read input or print anything. Complete the function determinantOfMatrix() that takes matrix and its size n as input parameters and returns the determinant of the matrix.\n",
        "\n",
        "Expected Time Complexity: O(N4)\n",
        "Expected Auxiliary Space: O(N2)\n",
        "\n",
        "Constraints:\n",
        "1 <= N <= 10\n",
        "-10 <= mat[i][j] <= 10\n",
        "\n"
      ],
      "metadata": {
        "id": "44Qgj7bsB96e"
      }
    },
    {
      "cell_type": "code",
      "source": [
        "class Solution:\n",
        "\n",
        "    #Function for finding determinant of matrix.\n",
        "    def determinantOfMatrix(self,matrix,n):\n",
        "        # code here\n",
        "        if n == 1:\n",
        "            return matrix[0][0]\n",
        "        if n == 2:\n",
        "            return matrix[0][0] * matrix[1][1] - matrix[1][0]* matrix[0][1]\n",
        "        deter = 0\n",
        "        for i in range(n):\n",
        "            minor_mat = [row[:i] + row[i+1:] for row in matrix[1:]]\n",
        "            cofac = matrix[0][i]*((-1) **i)\n",
        "            deter += cofac*self.determinantOfMatrix(minor_mat, n-1)\n",
        "        return deter"
      ],
      "metadata": {
        "id": "MK96lurn4QIW"
      },
      "execution_count": null,
      "outputs": []
    }
  ],
  "metadata": {
    "colab": {
      "provenance": []
    },
    "kernelspec": {
      "display_name": "Python 3",
      "name": "python3"
    },
    "language_info": {
      "name": "python"
    }
  },
  "nbformat": 4,
  "nbformat_minor": 0
}