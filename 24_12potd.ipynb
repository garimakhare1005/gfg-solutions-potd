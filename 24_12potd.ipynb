{
  "nbformat": 4,
  "nbformat_minor": 0,
  "metadata": {
    "colab": {
      "provenance": []
    },
    "kernelspec": {
      "name": "python3",
      "display_name": "Python 3"
    },
    "language_info": {
      "name": "python"
    }
  },
  "cells": [
    {
      "cell_type": "markdown",
      "source": [
        "In a stock market, there is a product with its infinite stocks. The stock prices are given for N days, where price[i] denotes the price of the stock on the ith day.\n",
        "There is a rule that a customer can buy at most i stock on the ith day.\n",
        "If the customer has an amount of k amount of money initially. The task is to find out the maximum number of stocks a customer can buy.\n",
        "\n",
        "Example 1:\n",
        "\n",
        "Input:\n",
        "price = [10,7,19]\n",
        "k = 45\n",
        "Output:\n",
        "4\n",
        "Explanation:\n",
        "A customer purchases 1 stock on day 1, 2 stocks on day 2 and 1 stock on day 3 for 10, 7 * 2 = 14 and 19 respectively. Hence, total amount is 10 + 14 + 19 = 43 and number of stocks purchased is 4.\n",
        "Example 2:\n",
        "\n",
        "Input:\n",
        "price = [7,10,4]\n",
        "k = 100\n",
        "Output:\n",
        "6\n",
        "Explanation:\n",
        "Buy on all 3 days.\n",
        "Your Task:  \n",
        "You don't need to read input or print anything. Your task is to complete the function buyMaximumProducts() which takes an array price and an integer k and returns an integer as output.\n",
        "\n",
        "Expected Time Complexity: O(NlogN)\n",
        "Expected Auxiliary Space: O(N)\n",
        "\n",
        "Constraints:\n",
        "1 <= N <= 104\n",
        "1 <= price[i] <= 104\n",
        "1 <= k <= 104"
      ],
      "metadata": {
        "id": "mH71IveAYuHY"
      }
    },
    {
      "cell_type": "code",
      "execution_count": 1,
      "metadata": {
        "id": "4kTQeiYAYoyF"
      },
      "outputs": [],
      "source": [
        "from typing import List\n",
        "\n",
        "class Solution:\n",
        "    def buyMaximumProducts(self, n: int, k: int, price: List[int]) -> int:\n",
        "        arr = []\n",
        "        for i in range(n):\n",
        "            arr.append([price[i], i + 1])\n",
        "\n",
        "        arr.sort()\n",
        "        ans = 0\n",
        "        for i in range(n):\n",
        "            if arr[i][0] * arr[i][1] <= k:\n",
        "                ans += arr[i][1]\n",
        "                k -= arr[i][0] * arr[i][1]\n",
        "            else:\n",
        "                ans += k // arr[i][0]\n",
        "                break\n",
        "\n",
        "        return ans\n"
      ]
    }
  ]
}