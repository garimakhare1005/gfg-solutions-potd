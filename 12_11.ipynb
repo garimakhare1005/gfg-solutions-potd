{
  "nbformat": 4,
  "nbformat_minor": 0,
  "metadata": {
    "colab": {
      "provenance": []
    },
    "kernelspec": {
      "name": "python3",
      "display_name": "Python 3"
    },
    "language_info": {
      "name": "python"
    }
  },
  "cells": [
    {
      "cell_type": "markdown",
      "source": [
        "Given two strings a and b. The task is to find if the string 'b' can be obtained by rotating (in any direction) string 'a' by exactly 2 places.\n",
        "\n",
        "Example 1:\n",
        "\n",
        "Input:\n",
        "a = amazon\n",
        "b = azonam\n",
        "Output:\n",
        "1\n",
        "Explanation:\n",
        "amazon can be rotated anti-clockwise by two places, which will make it as azonam.\n",
        "Example 2:\n",
        "\n",
        "Input:\n",
        "a = geeksforgeeks\n",
        "b = geeksgeeksfor\n",
        "Output:\n",
        "0\n",
        "Explanation:\n",
        "If we rotate geeksforgeeks by two place in any direction, we won't get geeksgeeksfor.\n",
        "Your Task:\n",
        "The task is to complete the function isRotated() which takes two strings as input parameters and checks if given strings can be formed by rotations. The function returns true if string 1 can be obtained by rotating string 2 by two places, else it returns false.\n",
        "\n",
        "Expected Time Complexity: O(N).\n",
        "Expected Auxilary Complexity: O(N).\n",
        "Challenge: Try doing it in O(1) space complexity.\n",
        "\n",
        "Constraints:\n",
        "1 ≤ length of a, b ≤ 105"
      ],
      "metadata": {
        "id": "LQqCh1_C0yM8"
      }
    },
    {
      "cell_type": "code",
      "execution_count": 1,
      "metadata": {
        "id": "aHO8ice50xpz"
      },
      "outputs": [],
      "source": [
        "#User function Template for python3\n",
        "class Solution:\n",
        "    #Function to check if a string can be obtained by rotating\n",
        "    #another string by exactly 2 places.\n",
        "    def isRotated(self, str1, str2):\n",
        "        #code here\n",
        "        n = len(str1)\n",
        "        #print(n)\n",
        "\n",
        "        if n != len(str2):\n",
        "            return 0\n",
        "\n",
        "        ok = True\n",
        "\n",
        "        for i in range(n):\n",
        "            pos = (i + 2) % (n)\n",
        "            #print (i, pos)\n",
        "            if str1[i] != str2[pos]:\n",
        "                ok = False\n",
        "                break\n",
        "\n",
        "        if (ok):\n",
        "            return 1\n",
        "\n",
        "        #print()\n",
        "\n",
        "        ok = True\n",
        "\n",
        "        for i in range(n):\n",
        "            pos = (i - 2) % (n)\n",
        "            #print (i, pos)\n",
        "            if str1[i] != str2[pos]:\n",
        "                ok = False\n",
        "                break\n",
        "\n",
        "        if (ok):\n",
        "            return 1\n",
        "\n",
        "\n",
        "        return 0\n",
        "\n",
        "\n",
        "# //PYTHON\n",
        "# //POTD SOLUTION(GFG)\n",
        "# // 12 Nov 2023"
      ]
    }
  ]
}