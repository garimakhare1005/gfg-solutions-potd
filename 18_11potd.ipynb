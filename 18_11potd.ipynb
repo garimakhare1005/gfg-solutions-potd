{
  "nbformat": 4,
  "nbformat_minor": 0,
  "metadata": {
    "colab": {
      "provenance": []
    },
    "kernelspec": {
      "name": "python3",
      "display_name": "Python 3"
    },
    "language_info": {
      "name": "python"
    }
  },
  "cells": [
    {
      "cell_type": "markdown",
      "source": [
        "Given a doubly linked list of n elements. Your task is to reverse the doubly linked list in-place.\n",
        "\n",
        "Example 1:\n",
        "\n",
        "Input:\n",
        "LinkedList: 3 <--> 4 <--> 5\n",
        "Output: 5 4 3\n",
        "Example 2:\n",
        "\n",
        "Input:\n",
        "LinkedList: 75 <--> 122 <--> 59 <--> 196\n",
        "Output: 196 59 122 75\n",
        "Your Task:\n",
        "Your task is to complete the given function reverseDLL(), which takes head reference as argument and this function should reverse the elements such that the tail becomes the new head and all pointers are pointing in the right order. You need to return the new head of the reversed list. The printing and verification is done by the driver code.\n",
        "\n",
        "Expected Time Complexity: O(n).\n",
        "Expected Auxiliary Space: O(1).\n",
        "\n",
        "Constraints:\n",
        "1 <= number of nodes <= 104\n",
        "0 <= value of nodes <= 104\n",
        "\n"
      ],
      "metadata": {
        "id": "ORk3eMtXPAbn"
      }
    },
    {
      "cell_type": "code",
      "execution_count": 1,
      "metadata": {
        "id": "rLfxAWbdO_p1"
      },
      "outputs": [],
      "source": [
        "#User function Template for python3\n",
        "\n",
        "'''\n",
        "class Node:\n",
        "    def __init__(self, data):\n",
        "        self.data = data\n",
        "        self.next = None\n",
        "        self.prev = None\n",
        "'''\n",
        "from copy import deepcopy\n",
        "class Solution:\n",
        "    def reverseDLL(self, head):\n",
        "        #return head after reversing\n",
        "        b=head\n",
        "        while b.next!=None:\n",
        "            #print(b.data)\n",
        "            nex=b.next\n",
        "            b.next=b.prev\n",
        "            b.prev=nex\n",
        "            b=nex\n",
        "\n",
        "        nex=b.next\n",
        "        b.next=b.prev\n",
        "        b.prev=nex\n",
        "        return b\n"
      ]
    }
  ]
}