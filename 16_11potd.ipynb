{
  "nbformat": 4,
  "nbformat_minor": 0,
  "metadata": {
    "colab": {
      "provenance": []
    },
    "kernelspec": {
      "name": "python3",
      "display_name": "Python 3"
    },
    "language_info": {
      "name": "python"
    }
  },
  "cells": [
    {
      "cell_type": "markdown",
      "source": [
        "Given two integers N and K, the task is to find the string S of minimum length such that it contains all possible strings of size N as a substring. The characters of the string should be from integers ranging from 0 to K-1.  \n",
        "\n",
        "Example 1:\n",
        "\n",
        "Input:\n",
        "N = 2, K = 2\n",
        "Output:\n",
        "00110\n",
        "Explanation:\n",
        "Allowed characters are from 0 to k-1 (i.e., 0 and 1).\n",
        "There are 4 string possible of size N=2\n",
        "(i.e \"00\", \"01\",\"10\",\"11\")\n",
        "\"00110\" contains all possible string as a\n",
        "substring. It also has the minimum length.\n",
        "Example 2:\n",
        "\n",
        "Input:\n",
        "N = 2, K = 3\n",
        "Output:\n",
        "0010211220\n",
        "Explanation:\n",
        "Allowed characters are from 0 to k-1 (i.e., 0, 1 and 2).\n",
        "There are total 9 strings possible\n",
        "of size N, given output string has the minimum\n",
        "length that contains all those strings as substring.\n",
        "Your Task:\n",
        "You don't need to read input or print anything. Complete the function findString( ) which takes the integer N and the integer K as input parameters and returns the string.\n",
        "Note: In case of multiple answers, return any string of minimum length which satisfies above condition. The driver will print the length of the string. In case of wrong answer it will print -1.\n",
        "\n",
        "Expected Time Complexity: O(KNlogK)\n",
        "Expected Space Complexity: O(KNN)\n",
        "\n",
        "Constraints:\n",
        "1 ≤ N ≤ 4\n",
        "1 < K < 10\n",
        "1 < KNN < 106\n",
        "\n"
      ],
      "metadata": {
        "id": "w2S-Lb2O9v1B"
      }
    },
    {
      "cell_type": "code",
      "execution_count": 1,
      "metadata": {
        "id": "3vA2MbsR9r0n"
      },
      "outputs": [],
      "source": [
        "class Solution:\n",
        "    def build_graph(self, N, K):\n",
        "        graph = {}\n",
        "        strings = [''.join(str((j // K ** i) % K)\n",
        "                           for i in range(N)) for j in range(K ** N)]\n",
        "        for s in strings:\n",
        "            graph[s] = [s[1:] + str(i)\n",
        "                        for i in range(K) if s[1:] + str(i) != s]\n",
        "        return graph, strings\n",
        "\n",
        "    def findString(self, N, K):\n",
        "        graph, strings = self.build_graph(N, K)\n",
        "        visited = set()\n",
        "\n",
        "        def find(s, current_string):\n",
        "            visited.add(s)\n",
        "            if len(visited) == K ** N:\n",
        "                return current_string\n",
        "            for neighbor in graph[s]:\n",
        "                if neighbor not in visited:\n",
        "                    result = find(neighbor, current_string + neighbor[-1])\n",
        "                    if result:\n",
        "                        return result\n",
        "            visited.remove(s)\n",
        "\n",
        "        for s in strings:\n",
        "            result = find(s, s)\n",
        "            if result:\n",
        "                return result"
      ]
    }
  ]
}