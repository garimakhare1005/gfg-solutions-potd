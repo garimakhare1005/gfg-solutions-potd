{
  "nbformat": 4,
  "nbformat_minor": 0,
  "metadata": {
    "colab": {
      "provenance": []
    },
    "kernelspec": {
      "name": "python3",
      "display_name": "Python 3"
    },
    "language_info": {
      "name": "python"
    }
  },
  "cells": [
    {
      "cell_type": "markdown",
      "source": [
        "Given an array arr of size N, determine whether this array represents an inorder traversal of a BST.\n",
        "\n",
        "Note: All keys in BST must be unique.\n",
        "\n",
        "Example 1:\n",
        "\n",
        "Input:\n",
        "N = 3\n",
        "arr = {2, 4, 5}\n",
        "Output: 1\n",
        "Explaination:\n",
        "Given array is inorder traversal for the following tree:\n",
        "    4\n",
        "   / \\\n",
        "  2   5\n",
        "Example 2:\n",
        "\n",
        "Input:\n",
        "N = 3\n",
        "arr = {2, 4, 1}\n",
        "Output: 0\n",
        "Explaination:\n",
        "Given array can not represent any BST.\n",
        "Your Task:\n",
        "You don't need to read input or print anything. Your task is to complete the function isRepresentingBST() which takes the array arr[] and its size N as input parameters and returns 1 if array represents Inorder traversal of a BST, else returns 0.\n",
        "\n",
        "Expected Time Complexity: O(N)\n",
        "Expected Auxiliary Space: O(1)\n",
        "\n",
        "Constraints:\n",
        "1 ≤ N ≤ 10^5\n",
        "1 ≤ arr[i] ≤ 10^5"
      ],
      "metadata": {
        "id": "lIeLtzbRiP2j"
      }
    },
    {
      "cell_type": "code",
      "source": [
        "class Solution:\n",
        "    def isRepresentingBST(self, arr, N):\n",
        "        # code here\n",
        "        for idx,val in enumerate(arr):\n",
        "            if idx==0 or val>arr[idx-1]:\n",
        "                continue\n",
        "            else:\n",
        "                return 0\n",
        "        return 1\n",
        "\n"
      ],
      "metadata": {
        "id": "C4LZ870FiTnr"
      },
      "execution_count": 1,
      "outputs": []
    }
  ]
}