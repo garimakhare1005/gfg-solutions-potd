{
  "nbformat": 4,
  "nbformat_minor": 0,
  "metadata": {
    "colab": {
      "provenance": []
    },
    "kernelspec": {
      "name": "python3",
      "display_name": "Python 3"
    },
    "language_info": {
      "name": "python"
    }
  },
  "cells": [
    {
      "cell_type": "code",
      "source": [
        "class Solution:\n",
        "    def pattern(self, N):\n",
        "        if N <= 0:\n",
        "            return [N,]\n",
        "        a = list(range(N, -5, -5))\n",
        "        return a + a[::-1][1:]"
      ],
      "metadata": {
        "id": "wnXBzPwbLNe_"
      },
      "execution_count": null,
      "outputs": []
    },
    {
      "cell_type": "markdown",
      "source": [
        "Print a sequence of numbers starting with N, without using loop, where replace N with N - 5, until N > 0. After that replace N with N + 5 until N regains its initial value.\n",
        "\n",
        "Example 1:\n",
        "\n",
        "Input:\n",
        "N = 16\n",
        "Output:\n",
        "16 11 6 1 -4 1 6 11 16\n",
        "Explaination:\n",
        "The value decreases until it is greater than 0. After that it increases and stops when it becomes 16 again.\n",
        "Example 2:\n",
        "\n",
        "Input:\n",
        "N = 10\n",
        "Output:\n",
        "10 5 0 5 10\n",
        "Explaination: It follows the same logic as per the above example.\n",
        "Your Task:\n",
        "You do not need to read input or print anything. Your task is to complete the function pattern() which takes N as input parameters and returns a list containing the pattern.\n",
        "\n",
        "Expected Time Complexity: O(N)\n",
        "Expected Auxiliary Space: O(N)\n",
        "\n",
        "Constraints:\n",
        "-105 ≤ N ≤ 105"
      ],
      "metadata": {
        "id": "IzjqO-9XLONg"
      }
    }
  ]
}