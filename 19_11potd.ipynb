{
  "nbformat": 4,
  "nbformat_minor": 0,
  "metadata": {
    "colab": {
      "provenance": []
    },
    "kernelspec": {
      "name": "python3",
      "display_name": "Python 3"
    },
    "language_info": {
      "name": "python"
    }
  },
  "cells": [
    {
      "cell_type": "markdown",
      "source": [
        "Given two linked lists sorted in increasing order, create a new linked list representing the intersection of the two linked lists. The new linked list should be made with without changing the original lists.\n",
        "\n",
        "Note: The elements of the linked list are not necessarily distinct.\n",
        "\n",
        "Example 1:\n",
        "\n",
        "Input:\n",
        "LinkedList1 = 1->2->3->4->6\n",
        "LinkedList2 = 2->4->6->8\n",
        "Output: 2 4 6\n",
        "Explanation: For the given two\n",
        "linked list, 2, 4 and 6 are the elements\n",
        "in the intersection.\n",
        "Example 2:\n",
        "\n",
        "Input:\n",
        "LinkedList1 = 10->20->40->50\n",
        "LinkedList2 = 15->40\n",
        "Output: 40\n",
        "Your Task:\n",
        "You don't have to take any input of print anything. Your task is to complete the function findIntersection(), which will take head of both of the linked lists as input and should find the intersection of two linked list and add all the elements in intersection to the third linked list and return the head of the third linked list.\n",
        "\n",
        "Expected Time Complexity : O(n+m)\n",
        "Expected Auxilliary Space : O(n+m)\n",
        "Note: n, m are the size of the respective linked lists.\n",
        "\n",
        "Constraints:\n",
        "1 <= size of linked lists <= 5000\n",
        "1 <= Data in linked list nodes <= 104\n",
        "\n"
      ],
      "metadata": {
        "id": "kaqXlwlpTNmz"
      }
    },
    {
      "cell_type": "code",
      "source": [
        "#User function Template for python3\n",
        "\n",
        "''' structure of node:\n",
        "\n",
        "class Node:\n",
        "    def __init__(self,data):\n",
        "        self.data=data\n",
        "        self.next=None\n",
        "\n",
        "'''\n",
        "class Node:\n",
        "    def __init__(self, data):\n",
        "        self.data = data\n",
        "        self.next = None\n",
        "\n",
        "class Solution:\n",
        "    @staticmethod\n",
        "    def findIntersection(head1, head2):\n",
        "        if not head1:\n",
        "            return head2\n",
        "\n",
        "        if not head2:\n",
        "            return head1\n",
        "\n",
        "        dummy = Node(0)\n",
        "        temp = dummy\n",
        "\n",
        "        while head1 and head2:\n",
        "            if head1.data == head2.data:\n",
        "                temp.next = Node(head1.data)\n",
        "                head1 = head1.next\n",
        "                head2 = head2.next\n",
        "                temp = temp.next\n",
        "            elif head1.data < head2.data:\n",
        "                head1 = head1.next\n",
        "            else:\n",
        "                head2 = head2.next\n",
        "\n",
        "        return dummy.next"
      ],
      "metadata": {
        "id": "oCN3OGk0TOn_"
      },
      "execution_count": 1,
      "outputs": []
    }
  ]
}