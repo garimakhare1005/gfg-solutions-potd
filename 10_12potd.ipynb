{
  "cells": [
    {
      "cell_type": "markdown",
      "source": [
        "Given an array of integers. Find if there is a subarray (of size at-least one) with 0 sum. You just need to return true/false depending upon whether there is a subarray present with 0-sum or not. Printing will be taken care by the driver code.\n",
        "\n",
        "Example 1:\n",
        "\n",
        "Input:\n",
        "n = 5\n",
        "arr = {4,2,-3,1,6}\n",
        "Output:\n",
        "Yes\n",
        "Explanation:\n",
        "2, -3, 1 is the subarray with sum 0.\n",
        "Example 2:\n",
        "\n",
        "Input:\n",
        "n = 5\n",
        "arr = {4,2,0,1,6}\n",
        "Output:\n",
        "Yes\n",
        "Explanation:\n",
        "0 is one of the element in the array so there exist a subarray with sum 0.\n",
        "Your Task:\n",
        "You only need to complete the function subArrayExists() that takes array and n as parameters and returns true or false.\n",
        "\n",
        "Expected Time Complexity: O(n).\n",
        "Expected Auxiliary Space: O(n).\n",
        "\n",
        "Constraints:\n",
        "1 <= n <= 104\n",
        "-105 <= a[i] <= 105"
      ],
      "metadata": {
        "id": "hM6FhMO9uwyk"
      }
    },
    {
      "cell_type": "code",
      "source": [
        "#User function Template for python3\n",
        "from collections import defaultdict\n",
        "class Solution:\n",
        "\n",
        "    #Function to check whether there is a subarray present with 0-sum or not.\n",
        "    def subArrayExists(self,arr,n):\n",
        "        ##Your code here\n",
        "        #Return true or false\n",
        "        m = defaultdict(int)\n",
        "        sum = 0\n",
        "        for i in range(n):\n",
        "            sum += arr[i]\n",
        "            if sum == 0:\n",
        "                return True\n",
        "            if sum in m:\n",
        "                return True\n",
        "            m[sum] += 1\n",
        "        return False\n",
        "\n",
        "        return res\n"
      ],
      "metadata": {
        "id": "WjEOmfzyMEZC"
      },
      "execution_count": 2,
      "outputs": []
    }
  ],
  "metadata": {
    "colab": {
      "provenance": []
    },
    "kernelspec": {
      "display_name": "Python 3",
      "name": "python3"
    },
    "language_info": {
      "name": "python"
    }
  },
  "nbformat": 4,
  "nbformat_minor": 0
}