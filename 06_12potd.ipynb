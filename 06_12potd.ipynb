{
  "cells": [
    {
      "cell_type": "markdown",
      "source": [
        "Given two integers L, R, and digit X. Find the number of occurrences of X in all the numbers in the range (L, R) excluding L and R.\n",
        "\n",
        "Example 1:\n",
        "\n",
        "Input:\n",
        "L=10, R=19, X=1\n",
        "Output:\n",
        "9\n",
        "Explanation:\n",
        "There are 9 1s (11, 12, 13, 14, 15, 16, 17, 18) in the numbers in the range (10,19).\n",
        "Example 2:\n",
        "\n",
        "Input:\n",
        "L=18, R=81, X=9\n",
        "Output:\n",
        "7\n",
        "Explanation:\n",
        "There are 7 occurrences of the digit 9 in the numbers in the range (18,81).\n",
        "Your Task:\n",
        "You don't need to read input or print anything. Your task is to complete the function countX() which takes three integers L, R, and X as input parameters and returns the number of occurrences of X in the numbers in the range(L, R).\n",
        "\n",
        "Expected Time Complexity:O(RLogR)\n",
        "Expected Auxillary Space:O(1)\n",
        "\n",
        "Constraints:\n",
        "1 <= L< R <= 105\n",
        "0 <= X <= 9"
      ],
      "metadata": {
        "id": "tIGmSASq2Kxc"
      }
    },
    {
      "cell_type": "code",
      "source": [
        "class Solution:\n",
        "    def countX(self, L, R, X):\n",
        "        count = 0\n",
        "        for i in range(L + 1, R):\n",
        "            num = i\n",
        "            while num != 0:\n",
        "                if num % 10 == X:\n",
        "                    count += 1\n",
        "                num = num // 10\n",
        "        return count\n"
      ],
      "metadata": {
        "id": "z-gXTexg2KOb"
      },
      "execution_count": null,
      "outputs": []
    }
  ],
  "metadata": {
    "colab": {
      "provenance": []
    },
    "kernelspec": {
      "display_name": "Python 3",
      "name": "python3"
    },
    "language_info": {
      "name": "python"
    }
  },
  "nbformat": 4,
  "nbformat_minor": 0
}