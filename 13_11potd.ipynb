{
  "nbformat": 4,
  "nbformat_minor": 0,
  "metadata": {
    "colab": {
      "provenance": []
    },
    "kernelspec": {
      "name": "python3",
      "display_name": "Python 3"
    },
    "language_info": {
      "name": "python"
    }
  },
  "cells": [
    {
      "cell_type": "markdown",
      "source": [
        "Given two strings X and Y of lengths m and n respectively, find the length of the smallest string which has both, X and Y as its sub-sequences.\n",
        "Note: X and Y can have both uppercase and lowercase letters.\n",
        "\n",
        "Example 1\n",
        "\n",
        "Input:\n",
        "X = abcd, Y = xycd\n",
        "Output: 6\n",
        "Explanation: Shortest Common Supersequence\n",
        "would be abxycd which is of length 6 and\n",
        "has both the strings as its subsequences.\n",
        "Example 2\n",
        "\n",
        "Input:\n",
        "X = efgh, Y = jghi\n",
        "Output: 6\n",
        "Explanation: Shortest Common Supersequence\n",
        "would be ejfghi which is of length 6 and\n",
        "has both the strings as its subsequences.\n",
        "Your Task:\n",
        "You don't have to take any input or print anything. Your task is to complete shortestCommonSupersequence() function that takes X, Y, m, and n as arguments and returns the length of the required string.\n",
        "\n",
        "Expected Time Complexity: O(Length(X) * Length(Y)).\n",
        "Expected Auxiliary Space: O(Length(X) * Length(Y)).\n",
        "\n",
        "Constraints:\n",
        "1<= |X|, |Y| <= 100\n",
        "\n",
        "\n",
        "\n"
      ],
      "metadata": {
        "id": "3oJfW-kRD5MH"
      }
    },
    {
      "cell_type": "code",
      "execution_count": 1,
      "metadata": {
        "id": "3Dj4nxSJD4kW"
      },
      "outputs": [],
      "source": [
        "class Solution:\n",
        "\n",
        "    def shortestCommonSupersequence(self, X, Y, m, n):\n",
        "        dp=[[0]*(m+1) for _ in range(2)]\n",
        "        for y in range(1,n+1):\n",
        "            for x in range (1,m+1):\n",
        "                if X[x-1]==Y[y-1]:\n",
        "                    dp[y%2][x]=dp[(y-1)%2][x-1]+1\n",
        "                else:\n",
        "                    dp[y%2][x]=max(dp[(y-1)%2][x], dp[y%2][x-1])\n",
        "        return m+n-dp[n%2][-1]"
      ]
    }
  ]
}