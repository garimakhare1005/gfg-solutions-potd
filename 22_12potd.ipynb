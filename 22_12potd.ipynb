{
  "cells": [
    {
      "cell_type": "markdown",
      "source": [
        "There is one meeting room in a firm. There are N meetings in the form of (S[i], F[i]) where S[i] is the start time of meeting i and F[i] is the finish time of meeting i. The task is to find the maximum number of meetings that can be accommodated in the meeting room. You can accommodate a meeting if the start time of the meeting is strictly greater than the finish time of the previous meeting. Print all meeting numbers.\n",
        "\n",
        "Note: If two meetings can be chosen for the same slot then choose meeting with smaller index in the given array.\n",
        "\n",
        "Example 1:\n",
        "\n",
        "Input:\n",
        "N = 6\n",
        "S = {1,3,0,5,8,5}\n",
        "F = {2,4,6,7,9,9}\n",
        "Output:\n",
        "{1,2,4,5}\n",
        "Explanation:\n",
        "We can attend the 1st meeting from (1 to 2), then the 2nd meeting from (3 to 4), then the 4th meeting from (5 to 7), and the last meeting we can attend is the 5th from (8 to 9). It can be shown that this is the maximum number of meetings we can attend.\n",
        "Example 2:\n",
        "\n",
        "Input:\n",
        "N = 1\n",
        "S = {3}\n",
        "F = {7}\n",
        "Output:\n",
        "{1}\n",
        "Explanation:\n",
        "Since there is only one meeting, we can attend the meeting.\n",
        "Your Task:\n",
        "\n",
        "You don't need to read input or print anything. Your task is to complete the function maxMeetings() which takes the arrays S, F, and its size N as inputs and returns the meeting numbers we can attend in sorted order.\n",
        "\n",
        "Expected Time Complexity: O(N*log(N))\n",
        "Expected Auxiliary Space: O(N)\n",
        "\n",
        "Constraints:\n",
        "1 <= N <= 105\n",
        "0 <= S[i] <= F[i] <= 109\n",
        "Sum of N over all test cases doesn't exceeds 106"
      ],
      "metadata": {
        "id": "44Qgj7bsB96e"
      }
    },
    {
      "cell_type": "code",
      "source": [
        "from typing import List\n",
        "\n",
        "\n",
        "class Solution:\n",
        "    class Pair:\n",
        "        def __init__(self, s, f, ind):\n",
        "            self.s = s\n",
        "            self.f = f\n",
        "            self.ind = ind\n",
        "\n",
        "    @staticmethod\n",
        "    def maxMeetings(N: int, S: List[int], F: List[int]) -> List[int]:\n",
        "        # code here\n",
        "        meetings = [Solution.Pair(S[i], F[i], i + 1) for i in range(N)]\n",
        "        meetings.sort(key=lambda x: x.f)\n",
        "\n",
        "        ans = []\n",
        "        last = -1\n",
        "        for i in range(N):\n",
        "            if meetings[i].s > last:\n",
        "                ans.append(meetings[i].ind)\n",
        "                last = meetings[i].f\n",
        "\n",
        "        ans.sort()\n",
        "        return ans"
      ],
      "metadata": {
        "id": "zi_C7OH4CEZL"
      },
      "execution_count": 1,
      "outputs": []
    }
  ],
  "metadata": {
    "colab": {
      "provenance": []
    },
    "kernelspec": {
      "display_name": "Python 3",
      "name": "python3"
    },
    "language_info": {
      "name": "python"
    }
  },
  "nbformat": 4,
  "nbformat_minor": 0
}