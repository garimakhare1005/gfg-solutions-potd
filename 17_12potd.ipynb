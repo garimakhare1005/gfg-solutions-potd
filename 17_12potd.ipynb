{
  "cells": [
    {
      "cell_type": "markdown",
      "source": [
        "Given an array Arr of size N containing positive integers. Find the maximum sum of a any possible subsequence such that no two numbers in the subsequence should be adjacent in Arr.\n",
        "\n",
        "Example 1:\n",
        "\n",
        "Input:\n",
        "N = 6\n",
        "Arr[] = {5, 5, 10, 100, 10, 5}\n",
        "Output: 110\n",
        "Explanation: If you take indices 0, 3\n",
        "and 5, then Arr[0]+Arr[3]+Arr[5] =\n",
        "5+100+5 = 110.\n",
        "Example 2:\n",
        "\n",
        "Input:\n",
        "N = 4\n",
        "Arr[] = {3, 2, 7, 10}\n",
        "Output: 13\n",
        "Explanation: 3 and 10 forms a non\n",
        "continuous subsequence with maximum\n",
        "sum.\n",
        "Your Task:\n",
        "You don't need to read input or print anything. Your task is to complete the function findMaxSum() which takes the array of integers Arr and N as parameters and returns an the maximum sum possible of any valid subsequence.\n",
        "\n",
        "Expected Time Complexity: O(N)\n",
        "Expected Auxiliary Space: O(1)\n",
        "\n",
        "Constraints:\n",
        "1 ≤ N ≤ 105\n",
        "1 ≤ Arri ≤ 105"
      ],
      "metadata": {
        "id": "H4ZmOWTFroVu"
      }
    },
    {
      "cell_type": "code",
      "source": [
        "class Solution:\n",
        "\n",
        "    def findMaxSum(self,arr, n):\n",
        "        # code here\n",
        "        if n == 1:\n",
        "            return arr[0]\n",
        "        if n == 2:\n",
        "            return max(arr[0],arr[1])\n",
        "        l = arr[0]\n",
        "        ll = max(arr[0],arr[1])\n",
        "        for i in range(2,n):\n",
        "            l,ll = ll,max(ll,l+arr[i],arr[i])\n",
        "        return ll\n"
      ],
      "metadata": {
        "id": "VSSI0ylirqhI"
      },
      "execution_count": 4,
      "outputs": []
    }
  ],
  "metadata": {
    "colab": {
      "provenance": []
    },
    "kernelspec": {
      "display_name": "Python 3",
      "name": "python3"
    },
    "language_info": {
      "name": "python"
    }
  },
  "nbformat": 4,
  "nbformat_minor": 0
}