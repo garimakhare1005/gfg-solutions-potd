{
  "nbformat": 4,
  "nbformat_minor": 0,
  "metadata": {
    "colab": {
      "provenance": []
    },
    "kernelspec": {
      "name": "python3",
      "display_name": "Python 3"
    },
    "language_info": {
      "name": "python"
    }
  },
  "cells": [
    {
      "cell_type": "markdown",
      "source": [
        "Given two strings wild and pattern. Determine if the given two strings can be matched given that, wild string may contain * and ? but string pattern will not. * and ? can be converted to another character according to the following rules:\n",
        "\n",
        "* --> This character in string wild can be replaced by any sequence of characters, it can also be replaced by an empty string.\n",
        "? --> This character in string wild can be replaced by any one character.\n",
        "Example 1:\n",
        "\n",
        "Input:\n",
        "wild = ge*ks\n",
        "pattern = geeks\n",
        "Output: Yes\n",
        "Explanation: Replace the '*' in wild string\n",
        "with 'e' to obtain pattern \"geeks\".\n",
        "Example 2:\n",
        "\n",
        "Input:\n",
        "wild = ge?ks*\n",
        "pattern = geeksforgeeks\n",
        "Output: Yes\n",
        "Explanation: Replace '?' and '*' in wild string with\n",
        "'e' and 'forgeeks' respectively to obtain pattern\n",
        "\"geeksforgeeks\"\n",
        "Your Task:\n",
        "You don't need to read input or print anything. Your task is to complete the function match() which takes the string wild and pattern as input parameters and returns true if the string wild can be made equal to the string pattern, otherwise, returns false.\n",
        "\n",
        "Expected Time Complexity: O(length of wild string * length of pattern string)\n",
        "Expected Auxiliary Space: O(length of wild string * length of pattern string)\n",
        "\n",
        "Constraints:\n",
        "1 <= length of the two string <= 10^3"
      ],
      "metadata": {
        "id": "zwov6yLrxq9K"
      }
    },
    {
      "cell_type": "code",
      "execution_count": null,
      "metadata": {
        "id": "Yi9UQZoGxncq"
      },
      "outputs": [],
      "source": [
        "import re\n",
        "\n",
        "class Solution:\n",
        "    def match(self, wild, pattern):\n",
        "        # Escape special characters in 'wild' and replace '\\*' with '.*' and '\\?' with '.'\n",
        "        regex_pattern = re.escape(wild).replace(r\"\\*\", \".*\").replace(r\"\\?\", \".\")\n",
        "\n",
        "        # Use re.fullmatch to check if the 'pattern' fully matches the constructed regex\n",
        "        match_result = re.fullmatch(regex_pattern, pattern)\n",
        "\n",
        "        # Return True if there is a match, otherwise return False\n",
        "        return match_result is not None"
      ]
    }
  ]
}