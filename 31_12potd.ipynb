{
  "nbformat": 4,
  "nbformat_minor": 0,
  "metadata": {
    "colab": {
      "provenance": []
    },
    "kernelspec": {
      "name": "python3",
      "display_name": "Python 3"
    },
    "language_info": {
      "name": "python"
    }
  },
  "cells": [
    {
      "cell_type": "markdown",
      "source": [
        "As the clock struck midnight on New Year's Eve, Geek bid farewell to the wasted moments of 2023, realizing the untapped potential of GFG's Problem of the Day.\n",
        "\n",
        "His 2024 resolution: Solve POTD every day.\n",
        "\n",
        "Eager to earn coins for GFG Merchandise, Geek faces new rules:\n",
        "\n",
        "Earning Coin: Geek can accumulate coins[i] by solving the POTD on the ith day, where 1 <= coins[i] <= 2024 and the sum of coins <= 2024.\n",
        "Merchandise Eligibility: To purchase merchandise, the coins earned must be divisible by 20 or 24, or precisely equal to 2024.\n",
        "Geek's resolutions often fades over time. Realistically, he can only commit to active participation for N (where N ≤ 366) days. Given the value of N and number of coins associated with each POTD, can Geek strategically solve some (or all) POTDs to become eligible for redeeming merchandise?\n",
        "\n",
        "Example 1:\n",
        "\n",
        "Input:\n",
        "N = 8\n",
        "coins = [5, 8, 9, 10, 14, 2, 3, 5]\n",
        "\n",
        "Output: 1\n",
        "\n",
        "Explanation:\n",
        "Geek can fulfill the criteria in many ways.\n",
        "One such way is to solve POTD on 4th and 5th day.\n",
        "Another way is to solve POTD on 1st, 4th and 8th day.\n",
        "Example 2:\n",
        "\n",
        "Input:\n",
        "N = 5\n",
        "coins = [1, 2, 3, 4, 5]\n",
        "\n",
        "Output: 0\n",
        "\n",
        "Explanation: There is no way Geek can become eligible.\n",
        "Your Task:\n",
        "You don't need to read input or print anything. Complete the function isPossible() which takes n and coins[ ] as input parameters and returns a boolean value.\n",
        "\n",
        "Expected Time Complexity: O(N*(Sum of coins))\n",
        "Expected Auxiliary Space: O(N*(Sum of coins))\n",
        "\n",
        "Constraints:\n",
        "1 <= N <= 366\n",
        "1 <= coins[i] <= 2024\n",
        "1 <= Sum of coins <=  2024"
      ],
      "metadata": {
        "id": "zwZQxAvTukFl"
      }
    },
    {
      "cell_type": "code",
      "source": [
        "from typing import List\n",
        "\n",
        "class Solution:\n",
        "\n",
        "    def recurse(self, coins, n, sum_val):\n",
        "        if sum_val and ((sum_val % 24 == 0) or (sum_val % 20 == 0) or (sum_val == 2024)):\n",
        "            return 1\n",
        "        if n == 0:\n",
        "            return 0\n",
        "        return self.recurse(coins, n - 1, sum_val + coins[n - 1]) or self.recurse(coins, n - 1, sum_val)\n",
        "\n",
        "    def isPossible(self, N : int, coins : List[int]) -> bool:\n",
        "        # code here\n",
        "        return self.recurse(coins, N, 0)\n",
        "\n"
      ],
      "metadata": {
        "id": "Ebxwe3R-GB1K"
      },
      "execution_count": 1,
      "outputs": []
    }
  ]
}