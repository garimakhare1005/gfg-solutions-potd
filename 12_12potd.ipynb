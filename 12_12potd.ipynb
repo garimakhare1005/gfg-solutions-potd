{
  "cells": [
    {
      "cell_type": "markdown",
      "source": [
        "Given a gold mine called M of (n x m) dimensions. Each field in this mine contains a positive integer which is the amount of gold in tons. Initially the miner can start from any row in the first column. From a given cell, the miner can move\n",
        "\n",
        "to the cell diagonally up towards the right\n",
        "to the right\n",
        "to the cell diagonally down towards the right\n",
        "Find out maximum amount of gold which he can collect until he can no longer move.\n",
        "\n",
        "Example 1:\n",
        "\n",
        "Input: n = 3, m = 3\n",
        "M = {{1, 3, 3},\n",
        "     {2, 1, 4},\n",
        "     {0, 6, 4}};\n",
        "Output: 12\n",
        "Explaination:\n",
        "The path is {(1,0) -> (2,1) -> (2,2)}.\n",
        "\n",
        "Example 2:\n",
        "\n",
        "Input: n = 4, m = 4\n",
        "M = {{1, 3, 1, 5},\n",
        "     {2, 2, 4, 1},\n",
        "     {5, 0, 2, 3},\n",
        "     {0, 6, 1, 2}};\n",
        "Output: 16\n",
        "Explaination:\n",
        "The path is {(2,0) -> (3,1) -> (2,2)\n",
        "-> (2,3)} or {(2,0) -> (1,1) -> (1,2)\n",
        "-> (0,3)}.\n",
        "Your Task:\n",
        "You do not need to read input or print anything. Your task is to complete the function maxGold() which takes the values n, m and the mine represented as a 2D array of positive integeres M as input parameters and returns the maximum amount of gold that can be collected.\n",
        "\n",
        "Expected Time Complexity: O(n*m)\n",
        "Expected Auxiliary Space: O(n*m)\n",
        "\n",
        "Constraints:\n",
        "1 ≤ n, m ≤ 500\n",
        "0 ≤ M[i][j] ≤ 100"
      ],
      "metadata": {
        "id": "mKgqj42247O_"
      }
    },
    {
      "cell_type": "code",
      "source": [
        "class Solution:\n",
        "    def maxGold(self, n, m, mat):\n",
        "        # code here\n",
        "        dp = []\n",
        "        for i in range(n):\n",
        "            dp.append(mat[i][-1])\n",
        "\n",
        "        for j in range(m-1,0,-1):\n",
        "            temp = []\n",
        "            for i in range(n):\n",
        "                up, dn = 0, 0\n",
        "                if i>0:\n",
        "                    up = dp[i-1]\n",
        "                if i<n-1:\n",
        "                    dn = dp[i+1]\n",
        "                temp.append(mat[i][j-1] + max(up,dp[i],dn))\n",
        "            dp = temp\n",
        "        return max(dp)\n"
      ],
      "metadata": {
        "id": "0TG8WHHH4_sK"
      },
      "execution_count": 1,
      "outputs": []
    }
  ],
  "metadata": {
    "colab": {
      "provenance": []
    },
    "kernelspec": {
      "display_name": "Python 3",
      "name": "python3"
    },
    "language_info": {
      "name": "python"
    }
  },
  "nbformat": 4,
  "nbformat_minor": 0
}