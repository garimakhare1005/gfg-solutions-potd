{
  "nbformat": 4,
  "nbformat_minor": 0,
  "metadata": {
    "colab": {
      "provenance": []
    },
    "kernelspec": {
      "name": "python3",
      "display_name": "Python 3"
    },
    "language_info": {
      "name": "python"
    }
  },
  "cells": [
    {
      "cell_type": "markdown",
      "source": [
        "Given a pair of strings of equal lengths, Geek wants to find the better string. The better string is the string having more number of distinct subsequences. If both the strings have equal count of distinct subsequence then return str1.\n",
        "\n",
        "Example 1:\n",
        "\n",
        "Input:\n",
        "str1 = \"gfg\", str2 = \"ggg\"\n",
        "Output: \"gfg\"\n",
        "Explanation: \"gfg\" have 7 distinct subsequences whereas \"ggg\" have 4 distinct subsequences.\n",
        "Example 2:\n",
        "\n",
        "Input: str1 = \"a\", str2 = \"b\"\n",
        "Output: \"a\"\n",
        "Explanation: Both the strings have only 1 distinct subsequence.\n",
        "Your Task:\n",
        "You don't need to read input or print anything. Your task is to complete the function betterString() which takes str1 and str2 as input parameters and returns the better string.\n",
        "\n",
        "Expected Time Complexity: O( max( str1.length, str2.length ) )\n",
        "\n",
        "Expected Auxiliary Space: O( max( str1.length, str2.length ) )\n",
        "\n",
        "Constraints:\n",
        "1 <= str1.lenght , str2.length <= 30"
      ],
      "metadata": {
        "id": "o1C-4ynWCspV"
      }
    },
    {
      "cell_type": "code",
      "source": [
        "class Solution:\n",
        "    def countDistinctSubsequences(self, s):\n",
        "        last_occurrence = [-1] * 256\n",
        "        n = len(s)\n",
        "        mod = 1000000007\n",
        "        dp = [0] * (n + 1)\n",
        "        dp[0] = 1\n",
        "\n",
        "        for i in range(1, n + 1):\n",
        "            dp[i] = (2 * dp[i - 1]) % mod\n",
        "            if last_occurrence[ord(s[i - 1])] != -1:\n",
        "                dp[i] = (dp[i] - dp[last_occurrence[ord(s[i - 1])]]) % mod\n",
        "            last_occurrence[ord(s[i - 1])] = i - 1\n",
        "\n",
        "        return (dp[n]-1 + mod) % mod\n",
        "\n",
        "    def betterString(self, str1, str2):\n",
        "        count1 = ob.countDistinctSubsequences(str1)\n",
        "        count2 = ob.countDistinctSubsequences(str2)\n",
        "\n",
        "        return str1 if count1 >= count2 else str2\n",
        ""
      ],
      "metadata": {
        "id": "UMXKfKrcCuVF"
      },
      "execution_count": 1,
      "outputs": []
    }
  ]
}