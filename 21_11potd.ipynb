{
  "nbformat": 4,
  "nbformat_minor": 0,
  "metadata": {
    "colab": {
      "provenance": []
    },
    "kernelspec": {
      "name": "python3",
      "display_name": "Python 3"
    },
    "language_info": {
      "name": "python"
    }
  },
  "cells": [
    {
      "cell_type": "markdown",
      "source": [
        "Given two binary trees, the task is to find if both of them are identical or not.\n",
        "Note: You need to return true or false, the printing is done by the driver code.\n",
        "\n",
        "Example 1:\n",
        "\n",
        "Input:\n",
        "     1          1\n",
        "   /   \\      /   \\\n",
        "  2     3    2     3\n",
        "Output:\n",
        "Yes\n",
        "Explanation:\n",
        "There are two trees both having 3 nodes and 2 edges, both trees are identical having the root as 1, left child of 1 is 2 and right child of 1 is 3.\n",
        "Example 2:\n",
        "\n",
        "Input:\n",
        "    1       1\n",
        "  /  \\     /  \\\n",
        " 2    3   3    2\n",
        "Output:\n",
        "No\n",
        "Explanation: There are two trees both having 3 nodes and 2 edges, but both trees are not identical.\n",
        "Your task:\n",
        "Since this is a functional problem you don't have to worry about input, you just have to complete the function isIdentical() that takes two roots as parameters and returns true or false. The printing is done by the driver code.\n",
        "\n",
        "Expected Time Complexity: O(N).\n",
        "Expected Auxiliary Space: O(Height of the Tree).\n",
        "\n",
        "Constraints:\n",
        "1 <= Number of nodes <= 105\n",
        "1 <=Data of a node <= 109"
      ],
      "metadata": {
        "id": "Ue7V5T4PLUtD"
      }
    },
    {
      "cell_type": "code",
      "source": [
        "class Solution:\n",
        "    #Function to check if two trees are identical.\n",
        "    def isIdentical(self,r1, r2):\n",
        "        if r1 is None and r2 is None:\n",
        "            return True\n",
        "\n",
        "        if r1 is None or r2 is None:\n",
        "            return False\n",
        "\n",
        "        if r1.data != r2.data:\n",
        "            return False\n",
        "\n",
        "        return self.isIdentical(r1.left, r2.left) and self.isIdentical(r1.right, r2.right)"
      ],
      "metadata": {
        "id": "IFhkYDqDLemK"
      },
      "execution_count": 1,
      "outputs": []
    }
  ]
}