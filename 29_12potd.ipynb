{
  "nbformat": 4,
  "nbformat_minor": 0,
  "metadata": {
    "colab": {
      "provenance": []
    },
    "kernelspec": {
      "name": "python3",
      "display_name": "Python 3"
    },
    "language_info": {
      "name": "python"
    }
  },
  "cells": [
    {
      "cell_type": "markdown",
      "source": [
        "Given a string s, check if it is possible to convert it into a string that is the repetition of a substring of length k. To convert, we will select two substrings, of length k starting at index i and j (zero-based indexing) such that i and j are divisible by k, and we will replace one substring with the other.\n",
        "\n",
        "Example 1:\n",
        "\n",
        "Input:\n",
        "N = 4\n",
        "K = 2\n",
        "S = \"bdac\"\n",
        "Output: 1\n",
        "Explanation: We can replace either\n",
        "\"bd\" with \"ac\" or \"ac\" with \"bd\"\n",
        "Example 2:\n",
        "\n",
        "Input:\n",
        "N = 5\n",
        "K = 2\n",
        "S = \"abcde\"\n",
        "Output: 0\n",
        "Explanation: Since n % k != 0, it's not\n",
        "possible to convert s into a string which\n",
        "is a concatanation of a substring with\n",
        "length k.\n",
        "Your Task:\n",
        "You don't need to read input or print anything. Your task is to complete the function kSubstrConcat() which takes a string s, its length n and an integer k as inputs and return 1 if convertion of the given string is possible, else 0.\n",
        "\n",
        "Expected Time Complexity: O(n).\n",
        "Expected Auxiliary Space: O(n).\n",
        "\n",
        "Constraints:\n",
        "2 <= k < n <= 105"
      ],
      "metadata": {
        "id": "oKJSkvOp7uvy"
      }
    },
    {
      "cell_type": "code",
      "execution_count": 1,
      "metadata": {
        "id": "K5yttDG17uDn"
      },
      "outputs": [],
      "source": [
        "class Solution:\n",
        "    def kSubstrConcat(self, n, s, k):\n",
        "        # Your Code Here\n",
        "        if n%k!=0:\n",
        "            return 0\n",
        "        prev=0\n",
        "        d={}\n",
        "        for i in range(k,n+1,k):\n",
        "            val=''.join(s[prev:i])\n",
        "            prev=i\n",
        "            d[val]=d.get(val,0)+1\n",
        "#         print(d)\n",
        "        if len(d)>=3:\n",
        "            return 0\n",
        "        return 1"
      ]
    }
  ]
}