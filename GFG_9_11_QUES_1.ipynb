{
  "nbformat": 4,
  "nbformat_minor": 0,
  "metadata": {
    "colab": {
      "provenance": []
    },
    "kernelspec": {
      "name": "python3",
      "display_name": "Python 3"
    },
    "language_info": {
      "name": "python"
    }
  },
  "cells": [
    {
      "cell_type": "markdown",
      "source": [
        "PREDICT THE COLUMN\n",
        "Given a matrix(2D array) M of size N*N consisting of 0s and 1s only. The task is to find the column with maximum number of 0s. If more than one column exists, print the one which comes first. If the maximum number of 0s is 0 then return -1.\n",
        "\n",
        "Example:\n",
        "\n",
        "Input:\n",
        "N = 3\n",
        "M[][] = {{0, 0, 0},\n",
        "          {1, 0, 1},\n",
        "          {0, 1, 1}}\n",
        "Output:\n",
        "0\n",
        "Explanation:\n",
        "0th column (0-based indexing) is having 2 zeros which is maximum among all columns and comes first.\n",
        "Your Task:\n",
        "Your task is to complete the function columnWithMaxZero() which should return the column number with the maximum number of zeros.\n",
        "\n",
        "Expected Time Complexity: O(N * N)\n",
        "Expected Auxiliary Space: O(1)\n",
        "\n",
        "Constraints:\n",
        "1 <= N <= 103\n",
        "0 <= A[i][j] <= 1\n",
        "\n"
      ],
      "metadata": {
        "id": "RLcQBs-yHbAv"
      }
    },
    {
      "cell_type": "code",
      "execution_count": 1,
      "metadata": {
        "id": "AMTZgtR8GoDM"
      },
      "outputs": [],
      "source": [
        "class Solution:\n",
        "    def columnWithMaxZeros(self, arr, N):\n",
        "        max_zeros = 0\n",
        "        max_zero_column = -1\n",
        "\n",
        "        for j in range(N):\n",
        "            zeros_count = 0\n",
        "            for i in range(N):\n",
        "                if arr[i][j] == 0:\n",
        "                    zeros_count += 1\n",
        "\n",
        "            if zeros_count > max_zeros:\n",
        "                max_zeros = zeros_count\n",
        "                max_zero_column = j\n",
        "\n",
        "        return max_zero_column"
      ]
    }
  ]
}