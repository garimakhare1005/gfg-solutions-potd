{
  "nbformat": 4,
  "nbformat_minor": 0,
  "metadata": {
    "colab": {
      "provenance": []
    },
    "kernelspec": {
      "name": "python3",
      "display_name": "Python 3"
    },
    "language_info": {
      "name": "python"
    }
  },
  "cells": [
    {
      "cell_type": "markdown",
      "source": [
        "Given a binary tree and an integer K. Find the number of paths in the tree which have their sum equal to K.\n",
        "A path may start from any node and end at any node in the downward direction.\n",
        "Since the answer may be very large, compute it modulo 109+7.\n",
        "\n",
        "Example 1:\n",
        "\n",
        "Input:      \n",
        "Tree =\n",
        "          1                               \n",
        "        /   \\                          \n",
        "       2     3\n",
        "K = 3\n",
        "Output:\n",
        "2\n",
        "Explanation:\n",
        "Path 1 : 1 + 2 = 3\n",
        "Path 2 : only leaf node 3\n",
        "Example 2:\n",
        "\n",
        "Input:\n",
        "Tree =\n",
        "           1\n",
        "        /     \\\n",
        "      3        -1\n",
        "    /   \\     /   \\\n",
        "   2     1   4     5                        \n",
        "        /   / \\     \\                    \n",
        "       1   1   2     6    \n",
        "K = 5                    \n",
        "Output:\n",
        "8\n",
        "Explanation:\n",
        "The following paths sum to K.  \n",
        "3 2\n",
        "3 1 1\n",
        "1 3 1\n",
        "4 1\n",
        "1 -1 4 1\n",
        "-1 4 2\n",
        "5\n",
        "1 -1 5\n",
        "Your Task:  \n",
        "You don't need to read input or print anything. Complete the function sumK() which takes root node and integer K as input parameters and returns the number of paths that have sum K.\n",
        "\n",
        "Expected Time Complexity: O(N)\n",
        "Expected Auxiliary Space: O(Height of Tree)\n",
        "\n",
        "Constraints:\n",
        "1 ≤ N ≤ 2*104\n",
        "-105 ≤ Node Value ≤ 105\n",
        "-109 ≤ K ≤ 109"
      ],
      "metadata": {
        "id": "PXf37CGs4B7i"
      }
    },
    {
      "cell_type": "code",
      "source": [
        "\n",
        "'''\n",
        "class Node:\n",
        "    def __init__(self, val):\n",
        "        self.right = None\n",
        "        self.data = val\n",
        "        self.left = None\n",
        "'''\n",
        "class Solution:\n",
        "    def sumK(self,root,k):\n",
        "        # code here\n",
        "        m = 1000000007\n",
        "        result = 0\n",
        "\n",
        "        def dfs(node, cur_sum, prefixSumFreq):\n",
        "            nonlocal k, result, m\n",
        "            if node:\n",
        "                cur_sum += node.data\n",
        "\n",
        "                result = (result + prefixSumFreq[cur_sum - k]) % m\n",
        "\n",
        "                if cur_sum == k:\n",
        "                    result += 1\n",
        "\n",
        "                prefixSumFreq[cur_sum] += 1\n",
        "\n",
        "                dfs(node.left, cur_sum, prefixSumFreq)\n",
        "                dfs(node.right, cur_sum, prefixSumFreq)\n",
        "\n",
        "                prefixSumFreq[cur_sum] -= 1\n",
        "\n",
        "\n",
        "        dfs(root, 0, defaultdict(int))\n",
        "\n",
        "        return result % m"
      ],
      "metadata": {
        "id": "HBjlYWKI4EN7"
      },
      "execution_count": 1,
      "outputs": []
    }
  ]
}