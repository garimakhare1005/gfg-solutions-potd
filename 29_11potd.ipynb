{
  "nbformat": 4,
  "nbformat_minor": 0,
  "metadata": {
    "colab": {
      "provenance": []
    },
    "kernelspec": {
      "name": "python3",
      "display_name": "Python 3"
    },
    "language_info": {
      "name": "python"
    }
  },
  "cells": [
    {
      "cell_type": "code",
      "source": [
        "class Solution:\n",
        "    def isEulerCircuitExist(self, V, adj):\n",
        "        #Code here\n",
        "        odd = 0;\n",
        "        for i in range(V):\n",
        "            if len(adj[i])%2 == 1:\n",
        "                odd = odd + 1;\n",
        "        if odd > 2:\n",
        "           return 0;\n",
        "        elif odd == 0:\n",
        "           return 2;\n",
        "        else:\n",
        "           return 1;\n"
      ],
      "metadata": {
        "id": "tgoCS9YhtiGK"
      },
      "execution_count": null,
      "outputs": []
    },
    {
      "cell_type": "markdown",
      "source": [
        "GfG Weekly + You = Perfect Sunday Evenings!\n",
        "Register for free now\n",
        "\n",
        "banner\n",
        "An Eulerian Path is a path in graph that visits every edge exactly once and it starts and ends up at different indexes. An Eulerian Circuit is an Eulerian Path which starts and ends on the same vertex. Given an undirected acyclic graph with V nodes, and E edges, with adjacency list adj, return 2 if the graph contains an eulerian circuit, else if the graph contains an eulerian path, return 1, otherwise, return 0.\n",
        "\n",
        "Example 1:\n",
        "\n",
        "Input:\n",
        "\n",
        "Output: 2\n",
        "Explanation:\n",
        "Following is an eulerian circuit in the mentioned graph\n",
        "1 -> 2 -> 0 -> 1\n",
        "Example 2:\n",
        "\n",
        "Input:\n",
        "\n",
        "Output: 1\n",
        "Explanation:\n",
        "Following is an eulerian circuit in the mentioned graph\n",
        "1 -> 0 -> 2\n",
        "Your Task:\n",
        "You don't need to read or print anything. Your task is to complete the function isEulerCircuilt() which takes number of vertices in the graph denoted as V and an adjacency list of graph denoted as adj and returns 2 if the graph contains an eulerian circuit, else if the graph contains an eulerian path, it returns 1, otherwise, it will return 0.\n",
        "\n",
        "Expected Time Complexity: O(V+E) where E is the number of edges in graph.\n",
        "Expected Space Complexity: O(V)\n",
        "\n",
        "Constraints:\n",
        "1 ≤ V, E ≤ 104\n",
        "1 ≤ adj[i][j] ≤ V-1"
      ],
      "metadata": {
        "id": "fpECj0U8ttg6"
      }
    }
  ]
}