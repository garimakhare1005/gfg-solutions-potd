{
  "cells": [
    {
      "cell_type": "markdown",
      "source": [
        "Given a fence with n posts and k colors, find out the number of ways of painting the fence so that not more than two consecutive posts have the same colors. Since the answer can be large return it modulo 109 + 7.\n",
        "\n",
        "Example 1:\n",
        "\n",
        "Input:\n",
        "n = 3\n",
        "k = 2\n",
        "Output: 6\n",
        "Explanation:\n",
        "We have following possible combinations:\n",
        "\n",
        "\n",
        "\n",
        "Example 2:\n",
        "\n",
        "Input:\n",
        "n = 2\n",
        "k = 4\n",
        "Output: 16\n",
        "Explanation:\n",
        "After coloring first post with\n",
        "4 possible combinations, you can still color\n",
        "next posts with all 4 colors. Total possible\n",
        "combinations will be 4x4=16\n",
        "Your Task:\n",
        "Since, this is a function problem. You don't need to take any input or print anything, as it is already accomplished by the driver code. You just need to complete the function countWays() that takes n and k as parameters and returns the number of ways in which the fence can be painted (modulo 109 + 7).\n",
        "\n",
        "Expected Time Complexity: O(N).\n",
        "Expected Auxiliary Space: O(N).\n",
        "\n",
        "Constraints:\n",
        "1 ≤ N ≤ 105\n",
        "1 ≤ K ≤ 105\n",
        "0 ≤ A[i] ≤ 109"
      ],
      "metadata": {
        "id": "70aaLJqseN_u"
      }
    },
    {
      "cell_type": "code",
      "source": [
        "class Solution:\n",
        "    def countWays(self,n,k):\n",
        "\n",
        "        # initilazitaion\n",
        "        dp=[k,k**2,k**3-k]+[0]*(n-3)\n",
        "        mod=10**9+7\n",
        "\n",
        "        # recursion scheme\n",
        "        for i in range(3,n):\n",
        "            dp[i]=(k*dp[i-1]-(k-1)*dp[i-3])%mod\n",
        "\n",
        "        return dp[n-1]"
      ],
      "metadata": {
        "id": "VZAwH_c8eWGB"
      },
      "execution_count": 2,
      "outputs": []
    }
  ],
  "metadata": {
    "colab": {
      "provenance": []
    },
    "kernelspec": {
      "display_name": "Python 3",
      "name": "python3"
    },
    "language_info": {
      "name": "python"
    }
  },
  "nbformat": 4,
  "nbformat_minor": 0
}