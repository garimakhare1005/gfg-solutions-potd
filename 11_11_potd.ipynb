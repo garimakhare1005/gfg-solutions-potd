{
  "nbformat": 4,
  "nbformat_minor": 0,
  "metadata": {
    "colab": {
      "provenance": []
    },
    "kernelspec": {
      "name": "python3",
      "display_name": "Python 3"
    },
    "language_info": {
      "name": "python"
    }
  },
  "cells": [
    {
      "cell_type": "markdown",
      "source": [
        "Given two strings 'str1' and 'str2', check if these two strings are isomorphic to each other.\n",
        "\n",
        "If the characters in str1 can be changed to get str2, then two strings, str1 and str2, are isomorphic. A character must be completely swapped out for another character while maintaining the order of the characters. A character may map to itself, but no two characters may map to the same character.\n",
        "\n",
        "Example 1:\n",
        "\n",
        "Input:\n",
        "str1 = aab\n",
        "str2 = xxy\n",
        "Output:\n",
        "1\n",
        "Explanation:\n",
        "There are two different characters in aab and xxy, i.e a and b with frequency 2 and 1 respectively.\n",
        "Example 2:\n",
        "\n",
        "Input:\n",
        "str1 = aab\n",
        "str2 = xyz\n",
        "Output:\n",
        "0\n",
        "Explanation:\n",
        "There are two different characters in aab but there are three different charactersin xyz. So there won't be one to one mapping between str1 and str2.\n",
        "Your Task:\n",
        "You don't need to read input or print anything.Your task is to complete the function areIsomorphic() which takes the string str1 and string str2 as input parameter and  check if two strings are isomorphic. The function returns true if strings are isomorphic else it returns false.\n",
        "\n",
        "Expected Time Complexity: O(|str1|+|str2|).\n",
        "Expected Auxiliary Space: O(Number of different characters).\n",
        "Note: |s| represents the length of string s.\n",
        "\n",
        "Constraints:\n",
        "1 <= |str1|, |str2| <= 105"
      ],
      "metadata": {
        "id": "WjtdXQxP7dy2"
      }
    },
    {
      "cell_type": "code",
      "execution_count": 1,
      "metadata": {
        "id": "kwvA0wDf7dHQ"
      },
      "outputs": [],
      "source": [
        "class Solution:\n",
        "\n",
        "    #Function to check if two strings are isomorphic.\n",
        "    def areIsomorphic(self,str1,str2):\n",
        "        maps1,maps2 = {},{}\n",
        "        if len(str1)!=len(str2):\n",
        "            return 0\n",
        "\n",
        "        for c1 , c2 in zip (str1,str2):\n",
        "            if ((c1 in maps1 and maps1[c1]!= c2)or\n",
        "                (c2 in maps2 and maps2[c2]!= c1)):\n",
        "                    return 0\n",
        "            maps1[c1]=c2\n",
        "            maps2[c2]=c1\n",
        "        return 1"
      ]
    }
  ]
}