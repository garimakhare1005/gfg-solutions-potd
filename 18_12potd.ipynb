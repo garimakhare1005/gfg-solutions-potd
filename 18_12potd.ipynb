{
  "cells": [
    {
      "cell_type": "markdown",
      "source": [
        "Given an array A of size N. The value of an array is denoted by the bit-wise XOR of all elements it contains. Find the bit-wise XOR of the values of all subarrays of A.\n",
        "\n",
        "Example 1:\n",
        "\n",
        "Input:\n",
        "N = 3\n",
        "A = [1,2,3]\n",
        "Output:\n",
        "2\n",
        "Explanation:\n",
        "xor[1] = 1\n",
        "xor[1, 2] = 3\n",
        "xor[2, 3] = 1\n",
        "xor[1, 2, 3] = 0\n",
        "xor[2] = 2\n",
        "xor[3] = 3\n",
        "Result : 1 ^ 3 ^ 1 ^ 0 ^ 2 ^ 3 = 2\n",
        "Example 2:\n",
        "\n",
        "Input:\n",
        "N = 2\n",
        "A = [1,2]\n",
        "Output:\n",
        "0\n",
        "Explanation:\n",
        "xor[1] = 1\n",
        "xor[1, 2] = 3\n",
        "xor[2] = 2\n",
        "Result : 1 ^ 3 ^ 2 = 0\n",
        "Your Task:\n",
        "You don't need to read input or print anything. Your task is to complete the function gameOfXor() which takes an integer N and array A[] as input parameters and returns the answer.\n",
        "\n",
        "Expected Time Complexity: O(N)\n",
        "Expected Auxiliary Space: O(1)\n",
        "\n",
        "Constraints:\n",
        "1 <= N <= 105\n",
        "0 <= A[i] <= 109"
      ],
      "metadata": {
        "id": "H4ZmOWTFroVu"
      }
    },
    {
      "cell_type": "code",
      "source": [
        "class Solution:\n",
        "    def gameOfXor(self, N , A):\n",
        "        # code here\n",
        "        ans = 0\n",
        "        # for i in range(N):\n",
        "        #     for j in range(N-i):\n",
        "        #         # print(\"{\", end = \" \" )\n",
        "        #         for k in range(i+1):\n",
        "        #             # print(A[k+j],end=\" \")\n",
        "        #             ans = ans ^ A[k+j]\n",
        "\n",
        "        #         # print(\"}\")\n",
        "        # return ans\n",
        "        if N % 2 ==0:\n",
        "            return 0\n",
        "        else:\n",
        "            i=0\n",
        "            while(i<N):\n",
        "                ans = ans ^ A[i]\n",
        "                i = i+2\n",
        "            return ans"
      ],
      "metadata": {
        "id": "VSSI0ylirqhI"
      },
      "execution_count": 5,
      "outputs": []
    }
  ],
  "metadata": {
    "colab": {
      "provenance": []
    },
    "kernelspec": {
      "display_name": "Python 3",
      "name": "python3"
    },
    "language_info": {
      "name": "python"
    }
  },
  "nbformat": 4,
  "nbformat_minor": 0
}